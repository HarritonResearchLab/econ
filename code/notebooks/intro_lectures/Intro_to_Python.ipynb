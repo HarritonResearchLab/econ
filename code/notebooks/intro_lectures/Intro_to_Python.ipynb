{
  "nbformat": 4,
  "nbformat_minor": 0,
  "metadata": {
    "colab": {
      "name": "Intro to Python",
      "provenance": []
    },
    "kernelspec": {
      "name": "python3",
      "display_name": "Python 3"
    },
    "language_info": {
      "name": "python"
    }
  },
  "cells": [
    {
      "cell_type": "markdown",
      "source": [
        "**Intro to Python notebook **"
      ],
      "metadata": {
        "id": "HHYccqDXMDVF"
      }
    },
    {
      "cell_type": "markdown",
      "source": [
        "In this notebook we are going to cover variables, data types, loops, if statements, functions, and much more. "
      ],
      "metadata": {
        "id": "9rqUGQvAMKWs"
      }
    },
    {
      "cell_type": "markdown",
      "source": [
        "First, though we are going to start with comments. "
      ],
      "metadata": {
        "id": "SYeMRQisMXrR"
      }
    },
    {
      "cell_type": "code",
      "source": [
        "#To comment in Python, just use the hashtag. \n",
        "#Any letters or words that come after a hashtag do not execute when you run python"
      ],
      "metadata": {
        "id": "sbNUH3WrMaP2"
      },
      "execution_count": null,
      "outputs": []
    },
    {
      "cell_type": "markdown",
      "source": [
        "Make a comment below:"
      ],
      "metadata": {
        "id": "h-2KGpLrMldH"
      }
    },
    {
      "cell_type": "code",
      "source": [
        ""
      ],
      "metadata": {
        "id": "vYST0M3DMnm3"
      },
      "execution_count": null,
      "outputs": []
    },
    {
      "cell_type": "code",
      "source": [
        "\"\"\"\n",
        "To make a multi-line comment, you start it with three quotes\n",
        "as well as end it with three quotes. This is also a multiline string, but\n",
        "if you don't assign a string to a variable, python just ignores\n",
        "it while running\n",
        "\"\"\""
      ],
      "metadata": {
        "id": "NVBGpkh4Mz9b"
      },
      "execution_count": null,
      "outputs": []
    },
    {
      "cell_type": "markdown",
      "source": [
        "Make a multiline comment below"
      ],
      "metadata": {
        "id": "alQ-pmxfM_GR"
      }
    },
    {
      "cell_type": "code",
      "source": [
        ""
      ],
      "metadata": {
        "id": "s0peJgcHNAaA"
      },
      "execution_count": null,
      "outputs": []
    },
    {
      "cell_type": "markdown",
      "source": [
        "A variable is created the moment you first assign a value to it. Variables do not need to be declared with any particular type, and can even change type after they have been set. They simply name a name on the right of the equal signs, the equal sign (only one) and the value on the left.\n",
        "\n",
        "\n",
        "\n"
      ],
      "metadata": {
        "id": "itb8CJZ3NCh_"
      }
    },
    {
      "cell_type": "code",
      "source": [
        "x = 5\n",
        "print(x)\n",
        "x = \"John\"\n",
        "print(x)"
      ],
      "metadata": {
        "id": "3cnfRiQ-NJUp"
      },
      "execution_count": null,
      "outputs": []
    },
    {
      "cell_type": "markdown",
      "source": [
        "Below: create a variable y. Assign the variable to the value 6 and print the value out. Then, reassign it to the string \"Hello World!\" and print it out as well."
      ],
      "metadata": {
        "id": "6yFcWg2lNN6g"
      }
    },
    {
      "cell_type": "code",
      "source": [
        ""
      ],
      "metadata": {
        "id": "rq1oEPTVNZqI"
      },
      "execution_count": null,
      "outputs": []
    },
    {
      "cell_type": "markdown",
      "source": [
        "If you want to specify the data type of a variable, this can be done with casting. Strings are basically words you don't want to be variables. Integers are numbers without decimals and floats are numbers with decimals.\n",
        "\n"
      ],
      "metadata": {
        "id": "r-GSufOuNaCW"
      }
    },
    {
      "cell_type": "code",
      "source": [
        "x = str(3)    # x will be '3'\n",
        "y = int(3)    # y will be 3\n",
        "z = float(3)  # z will be 3.0"
      ],
      "metadata": {
        "id": "53lVx_ZnNff9"
      },
      "execution_count": null,
      "outputs": []
    },
    {
      "cell_type": "markdown",
      "source": [
        "Below, make a new variable a and make it hold the string version of 5 (using casting)."
      ],
      "metadata": {
        "id": "KOQs1kUdNugS"
      }
    },
    {
      "cell_type": "code",
      "source": [
        ""
      ],
      "metadata": {
        "id": "xAxtJ8hYN5WS"
      },
      "execution_count": null,
      "outputs": []
    },
    {
      "cell_type": "markdown",
      "source": [
        "You can get the data type of a function using the type() function "
      ],
      "metadata": {
        "id": "88B9YL18N5hH"
      }
    },
    {
      "cell_type": "code",
      "source": [
        "print(type(str(5)))\n",
        "print(type(5))\n",
        "print(type(z))"
      ],
      "metadata": {
        "colab": {
          "base_uri": "https://localhost:8080/"
        },
        "id": "4rnwBbZeOAbk",
        "outputId": "0cd14c91-6bcd-498d-93c6-9f9f88eee7a4"
      },
      "execution_count": null,
      "outputs": [
        {
          "output_type": "stream",
          "name": "stdout",
          "text": [
            "<class 'str'>\n",
            "<class 'int'>\n",
            "<class 'float'>\n"
          ]
        }
      ]
    },
    {
      "cell_type": "markdown",
      "source": [
        "A variable can have a short name (like x and y) or a more descriptive name (age, carname, total_volume). Rules for Python variables:\n",
        "- A variable name must start with a letter or the underscore character\n",
        "- A variable name cannot start with a number\n",
        "- A variable name can only contain alpha-numeric characters and underscores (A-z, 0-9, and _ )\n",
        "- Variable names are case-sensitive (age, Age and AGE are three different variables)\n"
      ],
      "metadata": {
        "id": "coN6Rs2eOUva"
      }
    },
    {
      "cell_type": "markdown",
      "source": [
        "Python allows you to assign values to multiple variables in one line:\n",
        "\n"
      ],
      "metadata": {
        "id": "qu2tlHjxOh1A"
      }
    },
    {
      "cell_type": "code",
      "source": [
        "x, y, z = \"Orange\", \"Banana\", \"Cherry\"\n",
        "print(x)\n",
        "print(y)\n",
        "print(z)"
      ],
      "metadata": {
        "id": "kwIxPB4BOk07"
      },
      "execution_count": null,
      "outputs": []
    },
    {
      "cell_type": "markdown",
      "source": [
        "Below, assign x, y, and z to 1, 2, and 3."
      ],
      "metadata": {
        "id": "UA5Z52aMOmuI"
      }
    },
    {
      "cell_type": "code",
      "source": [
        ""
      ],
      "metadata": {
        "colab": {
          "base_uri": "https://localhost:8080/"
        },
        "id": "nw0AvnZ-Owu1",
        "outputId": "25f46422-a66c-4ea7-8283-c9e65126016b"
      },
      "execution_count": null,
      "outputs": [
        {
          "output_type": "stream",
          "name": "stdout",
          "text": [
            "1\n",
            "2\n",
            "3\n"
          ]
        }
      ]
    },
    {
      "cell_type": "markdown",
      "source": [
        "And you can assign the same value to multiple variables in one line:\n",
        "\n"
      ],
      "metadata": {
        "id": "6xqMbs71O3bg"
      }
    },
    {
      "cell_type": "code",
      "source": [
        "x = y = z = \"Orange\"\n",
        "print(x)\n",
        "print(y)\n",
        "print(z)"
      ],
      "metadata": {
        "id": "5nIoj_6oO48u"
      },
      "execution_count": null,
      "outputs": []
    },
    {
      "cell_type": "markdown",
      "source": [
        "Strings in python are surrounded by either single quotation marks, or double quotation marks.\n",
        "\n",
        "'hello' is the same as \"hello\".\n",
        "\n",
        "You can display a string literal with the print() function:"
      ],
      "metadata": {
        "id": "5dcVM3anPfHu"
      }
    },
    {
      "cell_type": "code",
      "source": [
        "print(\"Hello\")\n",
        "print('Hello')"
      ],
      "metadata": {
        "id": "Xe70B3NQPi-a"
      },
      "execution_count": null,
      "outputs": []
    },
    {
      "cell_type": "markdown",
      "source": [
        "You can assign a multiline string to a variable by using three quotes (or three single quotes):\n",
        "\n"
      ],
      "metadata": {
        "id": "fyfXT-MxPoVS"
      }
    },
    {
      "cell_type": "code",
      "source": [
        "a = \"\"\"Lorem ipsum dolor sit amet,\n",
        "consectetur adipiscing elit,\n",
        "sed do eiusmod tempor incididunt\n",
        "ut labore et dolore magna aliqua.\"\"\"\n",
        "print(a)\n",
        "'''\n",
        "This can be a multiline\n",
        "comment if not assigned to a variable\n",
        "'''"
      ],
      "metadata": {
        "id": "X7n2OJVXPpu4"
      },
      "execution_count": null,
      "outputs": []
    },
    {
      "cell_type": "markdown",
      "source": [
        "You can return a range of characters by using the slice syntax.\n",
        "\n",
        "Specify the start index and the end index, separated by a colon, to return a part of the string."
      ],
      "metadata": {
        "id": "VDWz8sjwP5r3"
      }
    },
    {
      "cell_type": "markdown",
      "source": [
        "To get the characters from position 2 to position 5 (not included):"
      ],
      "metadata": {
        "id": "h5M3gPyUQBea"
      }
    },
    {
      "cell_type": "code",
      "source": [
        "b = \"Hello, World!\"\n",
        "print(b[2:5])"
      ],
      "metadata": {
        "id": "mtbT1CZUQCo1"
      },
      "execution_count": null,
      "outputs": []
    },
    {
      "cell_type": "markdown",
      "source": [
        "Below, slice b from position 3 to position 8 (not included):"
      ],
      "metadata": {
        "id": "obAnweOJQGAJ"
      }
    },
    {
      "cell_type": "code",
      "source": [
        ""
      ],
      "metadata": {
        "id": "tC1jRo1rQMRE"
      },
      "execution_count": null,
      "outputs": []
    },
    {
      "cell_type": "markdown",
      "source": [
        "By leaving out the end index, the range will go to the end:\n",
        "\n"
      ],
      "metadata": {
        "id": "Mdi5RreYQMhP"
      }
    },
    {
      "cell_type": "code",
      "source": [
        "b = \"Hello, World!\"\n",
        "print(b[2:])"
      ],
      "metadata": {
        "id": "4EERSTM2QSsn"
      },
      "execution_count": null,
      "outputs": []
    },
    {
      "cell_type": "markdown",
      "source": [
        "Use negative indexes to start the slice from the end of the string:\n"
      ],
      "metadata": {
        "id": "CYmUam6cQWZl"
      }
    },
    {
      "cell_type": "code",
      "source": [
        "b = \"Hello, World!\"\n",
        "print(b[-5:-2])"
      ],
      "metadata": {
        "id": "ESf4jdoMQaPA"
      },
      "execution_count": null,
      "outputs": []
    },
    {
      "cell_type": "markdown",
      "source": [
        "Below, slice b from position -8 to position -2 "
      ],
      "metadata": {
        "id": "KRDs9OJaQbh_"
      }
    },
    {
      "cell_type": "code",
      "source": [
        ""
      ],
      "metadata": {
        "id": "ukbM-_1PQg7G"
      },
      "execution_count": null,
      "outputs": []
    },
    {
      "cell_type": "markdown",
      "source": [
        "Almost everything in Python is an object. Every object has certain attributes and methods. The connection between the attributes or the methods with the object is indicated by a “dot” (”.”) written between them. Strings are objects, so we can perform certain methods on the string or get certain attributes by using the \".\"\n",
        "\n"
      ],
      "metadata": {
        "id": "LjX3kPMRQstz"
      }
    },
    {
      "cell_type": "markdown",
      "source": [
        "To make a string go to all uppercase:"
      ],
      "metadata": {
        "id": "lSdTzkq4Q7f0"
      }
    },
    {
      "cell_type": "code",
      "source": [
        "print(\"Hello World!\".upper())\n",
        "a = \"Hello\"\n",
        "print(a.upper())"
      ],
      "metadata": {
        "colab": {
          "base_uri": "https://localhost:8080/"
        },
        "id": "zpfmBDhoQ3E3",
        "outputId": "072fc5a9-5b37-4c21-c543-4b78c72fea08"
      },
      "execution_count": null,
      "outputs": [
        {
          "output_type": "stream",
          "name": "stdout",
          "text": [
            "HELLO WORLD!\n",
            "HELLO\n"
          ]
        }
      ]
    },
    {
      "cell_type": "markdown",
      "source": [
        "Below, make the string \"WOrld\" go to all lowercase using the .lower() method"
      ],
      "metadata": {
        "id": "nVDcaeq6RDWa"
      }
    },
    {
      "cell_type": "code",
      "source": [
        ""
      ],
      "metadata": {
        "id": "ifav6_XyRI_M"
      },
      "execution_count": null,
      "outputs": []
    },
    {
      "cell_type": "markdown",
      "source": [
        "Whitespace is the space before and/or after the actual text, and very often you want to remove this space.\n",
        "\n"
      ],
      "metadata": {
        "id": "4SHUpztrRJHt"
      }
    },
    {
      "cell_type": "markdown",
      "source": [
        "The strip() method removes any whitespace from the beginning or the end:\n",
        "\n"
      ],
      "metadata": {
        "id": "EBKzehRvRNEL"
      }
    },
    {
      "cell_type": "code",
      "source": [
        "a = \" Hello, World! \"\n",
        "print(a.strip()) # returns \"Hello, World!\""
      ],
      "metadata": {
        "colab": {
          "base_uri": "https://localhost:8080/"
        },
        "id": "ajqabmdGRPk-",
        "outputId": "4ed48913-629b-4498-c4e5-1997b32cf8ab"
      },
      "execution_count": null,
      "outputs": [
        {
          "output_type": "stream",
          "name": "stdout",
          "text": [
            "Hello, World!\n"
          ]
        }
      ]
    },
    {
      "cell_type": "markdown",
      "source": [
        "One of the most useful string methods is the replace() method. The replace() method replaces a string with another string. This can be a letter, word, phrase, really any string:\n",
        "\n"
      ],
      "metadata": {
        "id": "PzUb6OKlRSPR"
      }
    },
    {
      "cell_type": "code",
      "source": [
        "a = \"Hello, World!\"\n",
        "print(a.replace(\"H\", \"J\"))"
      ],
      "metadata": {
        "id": "pIAcwsXNRb0y"
      },
      "execution_count": null,
      "outputs": []
    },
    {
      "cell_type": "markdown",
      "source": [
        "Below, replace every \"o\" in variable a with a \"w\"."
      ],
      "metadata": {
        "id": "ofUQK1x_Rcef"
      }
    },
    {
      "cell_type": "code",
      "source": [
        ""
      ],
      "metadata": {
        "id": "6mLbdwqERlgP"
      },
      "execution_count": null,
      "outputs": []
    },
    {
      "cell_type": "markdown",
      "source": [
        "The split() method returns a list where the text between the specified parameter becomes the list items.\n",
        "\n"
      ],
      "metadata": {
        "id": "smg-YiIdRlr7"
      }
    },
    {
      "cell_type": "code",
      "source": [
        "a = \"Hello, World!\"\n",
        "print(a.split(\",\")) # returns ['Hello', ' World!']\n",
        "b = \"Hello World!\"\n",
        "print(b.split(\" \")) # returns ['Hello', 'World!'] - this time splitting on the space"
      ],
      "metadata": {
        "colab": {
          "base_uri": "https://localhost:8080/"
        },
        "id": "xNs7cgdoRqLW",
        "outputId": "158d3cee-32de-468c-e16a-973ea1235643"
      },
      "execution_count": null,
      "outputs": [
        {
          "output_type": "stream",
          "name": "stdout",
          "text": [
            "['Hello', ' World!']\n",
            "['Hello', 'World!']\n"
          ]
        }
      ]
    },
    {
      "cell_type": "markdown",
      "source": [
        "Split the string \"Jupyter Notebook\" on every o. "
      ],
      "metadata": {
        "id": "kljzmyLjRvHA"
      }
    },
    {
      "cell_type": "code",
      "source": [
        ""
      ],
      "metadata": {
        "id": "QO2nHJ0NScbS"
      },
      "execution_count": null,
      "outputs": []
    },
    {
      "cell_type": "markdown",
      "source": [
        "To concatenate, or combine, two strings you can use the + operator.\n",
        "\n"
      ],
      "metadata": {
        "id": "QMG9l7inScht"
      }
    },
    {
      "cell_type": "code",
      "source": [
        "a = \"Hello\"\n",
        "b = \"World\"\n",
        "c = a + b\n",
        "print(c)"
      ],
      "metadata": {
        "id": "mn4pJ1dJSeVc"
      },
      "execution_count": null,
      "outputs": []
    },
    {
      "cell_type": "markdown",
      "source": [
        "Assign x to \"Jupyter\" and y to \"Notebook\" and print out the combination of both variables below:"
      ],
      "metadata": {
        "id": "NUgGax3KSfOD"
      }
    },
    {
      "cell_type": "code",
      "source": [
        ""
      ],
      "metadata": {
        "id": "6gU-eRbqSorC"
      },
      "execution_count": null,
      "outputs": []
    },
    {
      "cell_type": "code",
      "source": [
        "a = \"Hello\"\n",
        "b = \"World\"\n",
        "c = a + \" \" + b\n",
        "print(c)"
      ],
      "metadata": {
        "id": "2NwmmGvNSuD7"
      },
      "execution_count": null,
      "outputs": []
    },
    {
      "cell_type": "markdown",
      "source": [
        "To insert characters that are illegal in a string, use an escape character.\n",
        "\n",
        "An escape character is a backslash \\ followed by the character you want to insert.\n",
        "\n",
        "An example of an illegal character is a double quote inside a string that is surrounded by double quotes:"
      ],
      "metadata": {
        "id": "cLBW5whTS8ae"
      }
    },
    {
      "cell_type": "markdown",
      "source": [
        "You will get an error if you use double quotes inside a string that is surrounded by double quotes:\n",
        "\n"
      ],
      "metadata": {
        "id": "_fIpMmhgTFxP"
      }
    },
    {
      "cell_type": "code",
      "source": [
        "txt = \"We are the so-called \"Vikings\" from the north.\"\n"
      ],
      "metadata": {
        "id": "LENqCRScTBoH"
      },
      "execution_count": null,
      "outputs": []
    },
    {
      "cell_type": "markdown",
      "source": [
        "To fix this problem, use the escape character \\\":\n",
        "\n"
      ],
      "metadata": {
        "id": "bAl0PvyqTH8D"
      }
    },
    {
      "cell_type": "code",
      "source": [
        "txt = \"We are the so-called \\\"Vikings\\\" from the north.\"\n"
      ],
      "metadata": {
        "id": "Hd7WDokoTJ04"
      },
      "execution_count": null,
      "outputs": []
    },
    {
      "cell_type": "markdown",
      "source": [
        "Go to this website: https://www.w3schools.com/python/python_strings_escape.asp\n",
        "\n",
        "And use 3 new escape characters in a string below. Print out that string:"
      ],
      "metadata": {
        "id": "zQ5okyTVTMAx"
      }
    },
    {
      "cell_type": "code",
      "source": [
        ""
      ],
      "metadata": {
        "id": "SPyEqQyVTTkP"
      },
      "execution_count": null,
      "outputs": []
    },
    {
      "cell_type": "markdown",
      "source": [
        "Go to the website: https://www.w3schools.com/python/python_strings_methods.asp\n",
        "\n",
        "And try out 3 new string methods and print out the results below:"
      ],
      "metadata": {
        "id": "gLBh4ktbTT3a"
      }
    },
    {
      "cell_type": "code",
      "source": [
        ""
      ],
      "metadata": {
        "id": "PriAbmmeTeON"
      },
      "execution_count": null,
      "outputs": []
    },
    {
      "cell_type": "code",
      "source": [
        ""
      ],
      "metadata": {
        "id": "Yt5g7iaKTeWo"
      },
      "execution_count": null,
      "outputs": []
    },
    {
      "cell_type": "code",
      "source": [
        ""
      ],
      "metadata": {
        "id": "6MNnbHDJTedd"
      },
      "execution_count": null,
      "outputs": []
    },
    {
      "cell_type": "markdown",
      "source": [
        "To get the length of the stirng put the string in the len() method - this isn't a string method or attribute, so don't use \".\""
      ],
      "metadata": {
        "id": "a_-H5GPkTeu1"
      }
    },
    {
      "cell_type": "code",
      "source": [
        "print(len(\"Hello\"))"
      ],
      "metadata": {
        "colab": {
          "base_uri": "https://localhost:8080/"
        },
        "id": "dR1BH7raTtee",
        "outputId": "35323e6c-d59f-4e25-c92c-d95763c02b92"
      },
      "execution_count": null,
      "outputs": [
        {
          "output_type": "stream",
          "name": "stdout",
          "text": [
            "5\n"
          ]
        }
      ]
    },
    {
      "cell_type": "markdown",
      "source": [
        "Below, assign \"Hello World!\" to a and get the length of a"
      ],
      "metadata": {
        "id": "8ZV2cDEvTxru"
      }
    },
    {
      "cell_type": "code",
      "source": [
        ""
      ],
      "metadata": {
        "id": "Kp-Lxst6T1Co"
      },
      "execution_count": null,
      "outputs": []
    },
    {
      "cell_type": "markdown",
      "source": [
        "Now, we are going to switch are focus from Strings to Booleans. Booleans represent one of two values: True or False.\n",
        "\n"
      ],
      "metadata": {
        "id": "OlxpqTU2UJ2A"
      }
    },
    {
      "cell_type": "code",
      "source": [
        "a = True\n",
        "print(a)"
      ],
      "metadata": {
        "id": "AggMhu_0USYF"
      },
      "execution_count": null,
      "outputs": []
    },
    {
      "cell_type": "markdown",
      "source": [
        "When you compare two values, the expression is evaluated and Python returns the Boolean answer:\n",
        "\n"
      ],
      "metadata": {
        "id": "rEUcHwPQUT1A"
      }
    },
    {
      "cell_type": "code",
      "source": [
        "print(10 > 9)\n",
        "print(10 == 9)\n",
        "print(10 < 9)"
      ],
      "metadata": {
        "id": "phchuH9hUVdh"
      },
      "execution_count": null,
      "outputs": []
    },
    {
      "cell_type": "markdown",
      "source": [
        "When you run a condition in an if statement, Python returns True or False:\n",
        "\n"
      ],
      "metadata": {
        "id": "8oKQ5848UZgY"
      }
    },
    {
      "cell_type": "code",
      "source": [
        "a = 200\n",
        "b = 33\n",
        "\n",
        "if b > a:\n",
        "  print(\"b is greater than a\")\n",
        "else:\n",
        "  print(\"b is not greater than a\")"
      ],
      "metadata": {
        "id": "8M8epmp6UaKh"
      },
      "execution_count": null,
      "outputs": []
    },
    {
      "cell_type": "markdown",
      "source": [
        "We will talk about if statements later in the notebook."
      ],
      "metadata": {
        "id": "jXF0fM8LUl_8"
      }
    },
    {
      "cell_type": "markdown",
      "source": [
        "Some Python operators to note is that % is modulus and ** means to the power"
      ],
      "metadata": {
        "id": "mNo-4OBpgPtu"
      }
    },
    {
      "cell_type": "code",
      "source": [
        "print(13%5)\n",
        "print(5**2)\n",
        "print(5**3)"
      ],
      "metadata": {
        "id": "h0N9LNfFgVzo"
      },
      "execution_count": null,
      "outputs": []
    },
    {
      "cell_type": "markdown",
      "source": [
        "Below get what 5 to the power of 10 is"
      ],
      "metadata": {
        "id": "lnTvgz2thozh"
      }
    },
    {
      "cell_type": "code",
      "source": [
        ""
      ],
      "metadata": {
        "id": "b8-BMUOohrUs"
      },
      "execution_count": null,
      "outputs": []
    },
    {
      "cell_type": "markdown",
      "source": [
        "Also, you will use logical operators and, or, not very frequently. "
      ],
      "metadata": {
        "id": "3bA3_Z03gpMd"
      }
    },
    {
      "cell_type": "markdown",
      "source": [
        "- and Returns True if both statements are true\t\n",
        "- or Returns True if one of the statements is true\n",
        "- not Reverse the result, returns False if the result is true"
      ],
      "metadata": {
        "id": "KDcrRFOTgr-c"
      }
    },
    {
      "cell_type": "code",
      "source": [
        "print(5==5 and 5==4)\n",
        "print(5==5 or 5==4)\n",
        "print(not 5==5)\n",
        "print(5==5 and not 5==4)"
      ],
      "metadata": {
        "colab": {
          "base_uri": "https://localhost:8080/"
        },
        "id": "9itQTV_6gycL",
        "outputId": "69f60063-21f9-4a79-a090-141b06d7c073"
      },
      "execution_count": null,
      "outputs": [
        {
          "output_type": "stream",
          "name": "stdout",
          "text": [
            "False\n",
            "True\n",
            "False\n",
            "True\n"
          ]
        }
      ]
    },
    {
      "cell_type": "markdown",
      "source": [
        "Lists are used to store multiple items in a single variable. Lists are created using square brackets:\n",
        "\n"
      ],
      "metadata": {
        "id": "ly0mutFGhYq9"
      }
    },
    {
      "cell_type": "code",
      "source": [
        "thislist = [\"apple\", \"banana\", \"cherry\"]\n",
        "print(thislist)"
      ],
      "metadata": {
        "id": "KEjOitvshdGJ"
      },
      "execution_count": null,
      "outputs": []
    },
    {
      "cell_type": "markdown",
      "source": [
        "List items are ordered, changeable, and allow duplicate values. List items are indexed, the first item has index [0], the second item has index [1] etc.\n",
        "\n"
      ],
      "metadata": {
        "id": "BVQezlq4hjER"
      }
    },
    {
      "cell_type": "code",
      "source": [
        "thislist = [\"apple\", \"banana\", \"cherry\", \"apple\", \"cherry\"] #duplicats present\n",
        "print(thislist)"
      ],
      "metadata": {
        "id": "M2p7afyfh0cE"
      },
      "execution_count": null,
      "outputs": []
    },
    {
      "cell_type": "markdown",
      "source": [
        "To determine how many items a list has, use the len() function:\n",
        "\n"
      ],
      "metadata": {
        "id": "zs5NRdxyh3UY"
      }
    },
    {
      "cell_type": "code",
      "source": [
        "thislist = [\"apple\", \"banana\", \"cherry\"]\n",
        "print(len(thislist))"
      ],
      "metadata": {
        "id": "HehtmU8Xh3_Z"
      },
      "execution_count": null,
      "outputs": []
    },
    {
      "cell_type": "markdown",
      "source": [
        "A list can contain different data types:\n",
        "\n"
      ],
      "metadata": {
        "id": "NQZDFCDPh9Ia"
      }
    },
    {
      "cell_type": "code",
      "source": [
        "list1 = [\"abc\", 34, True, 40, \"male\"]\n"
      ],
      "metadata": {
        "id": "6fZXHL4Ch9ci"
      },
      "execution_count": null,
      "outputs": []
    },
    {
      "cell_type": "markdown",
      "source": [
        "It is also possible to use the list() constructor when creating a new list.\n",
        "\n"
      ],
      "metadata": {
        "id": "L5utA-uziBs1"
      }
    },
    {
      "cell_type": "code",
      "source": [
        "thislist = list((\"apple\", \"banana\", \"cherry\")) # note the double round-brackets\n",
        "print(thislist)"
      ],
      "metadata": {
        "id": "O8Rx9IQPiCRR"
      },
      "execution_count": null,
      "outputs": []
    },
    {
      "cell_type": "markdown",
      "source": [
        "Create a list with 3 different datatypes below:"
      ],
      "metadata": {
        "id": "Z4jfSgxRiHoo"
      }
    },
    {
      "cell_type": "code",
      "source": [
        ""
      ],
      "metadata": {
        "id": "6HGK5ufaiKHR"
      },
      "execution_count": null,
      "outputs": []
    },
    {
      "cell_type": "markdown",
      "source": [
        "List items are indexed and you can access them by referring to the index number:\n",
        "\n"
      ],
      "metadata": {
        "id": "mi-QcV1TiMHr"
      }
    },
    {
      "cell_type": "code",
      "source": [
        "thislist = [\"apple\", \"banana\", \"cherry\"]\n",
        "print(thislist[1]) #Prints the second item of the list"
      ],
      "metadata": {
        "id": "QN7oHdZ6iOLy"
      },
      "execution_count": null,
      "outputs": []
    },
    {
      "cell_type": "markdown",
      "source": [
        "Negative indexing means start from the end\n",
        "\n",
        "-1 refers to the last item, -2 refers to the second last item etc."
      ],
      "metadata": {
        "id": "Fd3bKLoBiUav"
      }
    },
    {
      "cell_type": "code",
      "source": [
        "thislist = [\"apple\", \"banana\", \"cherry\"]\n",
        "print(thislist[-1])"
      ],
      "metadata": {
        "id": "uhoB2ZpQiU-b"
      },
      "execution_count": null,
      "outputs": []
    },
    {
      "cell_type": "markdown",
      "source": [
        "Create a list of 6 numbers and return the number at the second position and the number at the second to last position."
      ],
      "metadata": {
        "id": "ES6I5BkNid8m"
      }
    },
    {
      "cell_type": "code",
      "source": [
        ""
      ],
      "metadata": {
        "id": "bp1RI2J6inKP"
      },
      "execution_count": null,
      "outputs": []
    },
    {
      "cell_type": "markdown",
      "source": [
        "You can specify a range of indexes by specifying where to start and where to end the range.\n",
        "\n",
        "When specifying a range, the return value will be a new list with the specified items.\n",
        "\n"
      ],
      "metadata": {
        "id": "I-ogcR0qimkm"
      }
    },
    {
      "cell_type": "code",
      "source": [
        "thislist = [\"apple\", \"banana\", \"cherry\", \"orange\", \"kiwi\", \"melon\", \"mango\"]\n",
        "print(thislist[2:5])"
      ],
      "metadata": {
        "id": "S_EyX1HGirgT"
      },
      "execution_count": null,
      "outputs": []
    },
    {
      "cell_type": "markdown",
      "source": [
        "By leaving out the start value, the range will start at the first item:\n",
        "\n"
      ],
      "metadata": {
        "id": "099lI3msit55"
      }
    },
    {
      "cell_type": "code",
      "source": [
        "thislist = [\"apple\", \"banana\", \"cherry\", \"orange\", \"kiwi\", \"melon\", \"mango\"]\n",
        "print(thislist[:4])"
      ],
      "metadata": {
        "id": "TsieZP5YivIj"
      },
      "execution_count": null,
      "outputs": []
    },
    {
      "cell_type": "markdown",
      "source": [
        "By leaving out the end value, the range will go on to the end of the list:\n",
        "\n"
      ],
      "metadata": {
        "id": "8_RC4gNYi3IO"
      }
    },
    {
      "cell_type": "code",
      "source": [
        "thislist = [\"apple\", \"banana\", \"cherry\", \"orange\", \"kiwi\", \"melon\", \"mango\"]\n",
        "print(thislist[2:]"
      ],
      "metadata": {
        "id": "1M0FsLqvi4aA"
      },
      "execution_count": null,
      "outputs": []
    },
    {
      "cell_type": "markdown",
      "source": [
        "Specify negative indexes if you want to start the search from the end of the list:\n",
        "\n"
      ],
      "metadata": {
        "id": "b2Y1nvDQi7c-"
      }
    },
    {
      "cell_type": "code",
      "source": [
        "thislist = [\"apple\", \"banana\", \"cherry\", \"orange\", \"kiwi\", \"melon\", \"mango\"]\n",
        "print(thislist[-4:-1])"
      ],
      "metadata": {
        "id": "1nENceB-i73L"
      },
      "execution_count": null,
      "outputs": []
    },
    {
      "cell_type": "markdown",
      "source": [
        "Below print out every element in thislist from the first to fifth position."
      ],
      "metadata": {
        "id": "VXu12-J9i-m8"
      }
    },
    {
      "cell_type": "markdown",
      "source": [
        "To determine if a specified item is present in a list use the in keyword:\n",
        "\n"
      ],
      "metadata": {
        "id": "nNXf6wFJjJgc"
      }
    },
    {
      "cell_type": "code",
      "source": [
        "thislist = [\"apple\", \"banana\", \"cherry\"]\n",
        "print(\"apple\" in thislist)"
      ],
      "metadata": {
        "colab": {
          "base_uri": "https://localhost:8080/"
        },
        "id": "9nGwEQI3jKvr",
        "outputId": "d692e357-2d9c-4df8-9b42-0158715abffd"
      },
      "execution_count": null,
      "outputs": [
        {
          "output_type": "stream",
          "name": "stdout",
          "text": [
            "True\n"
          ]
        }
      ]
    },
    {
      "cell_type": "markdown",
      "source": [
        "Using code, check to see if \"grape\" is in thelist below:"
      ],
      "metadata": {
        "id": "ab9N_1ozjPft"
      }
    },
    {
      "cell_type": "code",
      "source": [
        ""
      ],
      "metadata": {
        "id": "CDwaJi1njT25"
      },
      "execution_count": null,
      "outputs": []
    },
    {
      "cell_type": "markdown",
      "source": [
        "To change the value of a specific item, refer to the index number:\n",
        "\n"
      ],
      "metadata": {
        "id": "z_8ZajZ8Ppxa"
      }
    },
    {
      "cell_type": "code",
      "source": [
        "thislist = [\"apple\", \"banana\", \"cherry\"]\n",
        "thislist[1] = \"blackcurrant\"\n",
        "print(thislist)"
      ],
      "metadata": {
        "id": "tqgL6d-pPrd7"
      },
      "execution_count": null,
      "outputs": []
    },
    {
      "cell_type": "markdown",
      "source": [
        "Below, change the second item of thislist to another word.\n",
        "\n",
        "\n"
      ],
      "metadata": {
        "id": "9gNEeS_ePtz3"
      }
    },
    {
      "cell_type": "code",
      "source": [
        ""
      ],
      "metadata": {
        "id": "zaP_-71gP0eB"
      },
      "execution_count": null,
      "outputs": []
    },
    {
      "cell_type": "markdown",
      "source": [
        "To change the value of items within a specific range, define a list with the new values, and refer to the range of index numbers where you want to insert the new values:\n",
        "\n"
      ],
      "metadata": {
        "id": "HnpTzzaeP6Ih"
      }
    },
    {
      "cell_type": "code",
      "source": [
        "thislist = [\"apple\", \"banana\", \"cherry\", \"orange\", \"kiwi\", \"mango\"]\n",
        "thislist[1:3] = [\"blackcurrant\", \"watermelon\"]\n",
        "print(thislist)"
      ],
      "metadata": {
        "id": "JKU1pAnuP6jX"
      },
      "execution_count": null,
      "outputs": []
    },
    {
      "cell_type": "markdown",
      "source": [
        "Below, change items 2 through 4 in thislist to another fruit."
      ],
      "metadata": {
        "id": "4Xfd-RT4P9A9"
      }
    },
    {
      "cell_type": "code",
      "source": [
        ""
      ],
      "metadata": {
        "id": "Thw3R9x7QBVi"
      },
      "execution_count": null,
      "outputs": []
    },
    {
      "cell_type": "markdown",
      "source": [
        "If you insert more items than you replace, the new items will be inserted where you specified, and the remaining items will move accordingly:\n",
        "\n"
      ],
      "metadata": {
        "id": "UuoeAF9zQ6nm"
      }
    },
    {
      "cell_type": "code",
      "source": [
        "thislist = [\"apple\", \"banana\", \"cherry\"]\n",
        "thislist[1:2] = [\"blackcurrant\", \"watermelon\"]\n",
        "print(thislist)"
      ],
      "metadata": {
        "id": "qJ1Y44a_Q7Dw"
      },
      "execution_count": null,
      "outputs": []
    },
    {
      "cell_type": "markdown",
      "source": [
        "If you insert less items than you replace, the new items will be inserted where you specified, and the remaining items will move accordingly:\n",
        "\n"
      ],
      "metadata": {
        "id": "IeYW_LixQ-70"
      }
    },
    {
      "cell_type": "code",
      "source": [
        "thislist = [\"apple\", \"banana\", \"cherry\"]\n",
        "thislist[1:3] = [\"watermelon\"]\n",
        "print(thislist)"
      ],
      "metadata": {
        "id": "LFj70yAuQ_XE"
      },
      "execution_count": null,
      "outputs": []
    },
    {
      "cell_type": "markdown",
      "source": [
        "Below replace the second item with 3 new fruits."
      ],
      "metadata": {
        "id": "F3EDjZ1oRMps"
      }
    },
    {
      "cell_type": "code",
      "source": [
        ""
      ],
      "metadata": {
        "id": "IPdEHP9URRJC"
      },
      "execution_count": null,
      "outputs": []
    },
    {
      "cell_type": "markdown",
      "source": [
        "To insert a new list item, without replacing any of the existing values, we can use the insert() method.\n",
        "\n",
        "The insert() method inserts an item at the specified index:"
      ],
      "metadata": {
        "id": "dMyPn87tRRY-"
      }
    },
    {
      "cell_type": "code",
      "source": [
        "thislist = [\"apple\", \"banana\", \"cherry\"]\n",
        "thislist.insert(2, \"watermelon\")\n",
        "print(thislist)"
      ],
      "metadata": {
        "id": "shw8mN4tRTgA"
      },
      "execution_count": null,
      "outputs": []
    },
    {
      "cell_type": "markdown",
      "source": [
        "To add an item to the end of the list, use the append() method:\n",
        "\n"
      ],
      "metadata": {
        "id": "G6E2St4rRXZT"
      }
    },
    {
      "cell_type": "code",
      "source": [
        "thislist = [\"apple\", \"banana\", \"cherry\"]\n",
        "thislist.append(\"orange\")\n",
        "print(thislist)"
      ],
      "metadata": {
        "id": "CYnlgINvRY6d"
      },
      "execution_count": null,
      "outputs": []
    },
    {
      "cell_type": "markdown",
      "source": [
        "Below, add another fruit to thelist."
      ],
      "metadata": {
        "id": "YK4NqWaORdW0"
      }
    },
    {
      "cell_type": "code",
      "source": [
        ""
      ],
      "metadata": {
        "id": "a87XwUP1RhL0"
      },
      "execution_count": null,
      "outputs": []
    },
    {
      "cell_type": "markdown",
      "source": [
        "To append elements from another list to the current list, use the extend() method. This adds the second list to the end of the first list.\n",
        "\n"
      ],
      "metadata": {
        "id": "EWiln-QBRkdR"
      }
    },
    {
      "cell_type": "code",
      "source": [
        "thislist = [\"apple\", \"banana\", \"cherry\"]\n",
        "tropical = [\"mango\", \"pineapple\", \"papaya\"]\n",
        "thislist.extend(tropical)\n",
        "print(thislist)"
      ],
      "metadata": {
        "colab": {
          "base_uri": "https://localhost:8080/"
        },
        "id": "j5JnKywcRmRv",
        "outputId": "4007cab4-2048-4e32-955c-46287d0897b7"
      },
      "execution_count": null,
      "outputs": [
        {
          "output_type": "stream",
          "name": "stdout",
          "text": [
            "['apple', 'banana', 'cherry', 'mango', 'pineapple', 'papaya']\n"
          ]
        }
      ]
    },
    {
      "cell_type": "markdown",
      "source": [
        "Below create two lists and append all the items from one list to the end of the other."
      ],
      "metadata": {
        "id": "vF8qvFvLRslg"
      }
    },
    {
      "cell_type": "code",
      "source": [
        ""
      ],
      "metadata": {
        "id": "CBlJ_3UBRyFF"
      },
      "execution_count": null,
      "outputs": []
    },
    {
      "cell_type": "markdown",
      "source": [
        "The extend() method does not have to append lists, you can add any iterable object (tuples, sets, dictionaries etc.).\n",
        "\n"
      ],
      "metadata": {
        "id": "32FFmouFRyQw"
      }
    },
    {
      "cell_type": "code",
      "source": [
        "thislist = [\"apple\", \"banana\", \"cherry\"]\n",
        "thistuple = (\"kiwi\", \"orange\")\n",
        "thislist.extend(thistuple)\n",
        "print(thislist)"
      ],
      "metadata": {
        "id": "KuCjJuM1R5yV"
      },
      "execution_count": null,
      "outputs": []
    },
    {
      "cell_type": "markdown",
      "source": [
        "The remove() method removes the specified item.\n",
        "\n"
      ],
      "metadata": {
        "id": "-9LfkLFOR-cC"
      }
    },
    {
      "cell_type": "code",
      "source": [
        "thislist = [\"apple\", \"banana\", \"cherry\"]\n",
        "thislist.remove(\"banana\")\n",
        "print(thislist)"
      ],
      "metadata": {
        "id": "vg4MrlbbSDhs"
      },
      "execution_count": null,
      "outputs": []
    },
    {
      "cell_type": "markdown",
      "source": [
        "Remove apple from the thislist:"
      ],
      "metadata": {
        "id": "BRUzAfVQSGCE"
      }
    },
    {
      "cell_type": "code",
      "source": [
        ""
      ],
      "metadata": {
        "id": "CqKKLHvASH3z"
      },
      "execution_count": null,
      "outputs": []
    },
    {
      "cell_type": "markdown",
      "source": [
        "The pop() method removes the specified index.\n",
        "\n"
      ],
      "metadata": {
        "id": "HOXXeLPmSIAZ"
      }
    },
    {
      "cell_type": "code",
      "source": [
        "thislist = [\"apple\", \"banana\", \"cherry\"]\n",
        "thislist.pop(1)\n",
        "print(thislist)"
      ],
      "metadata": {
        "id": "-fWLWoI8SQ36"
      },
      "execution_count": null,
      "outputs": []
    },
    {
      "cell_type": "markdown",
      "source": [
        "Below, remove the first item of thislist"
      ],
      "metadata": {
        "id": "iEUxDqY0SRvp"
      }
    },
    {
      "cell_type": "code",
      "source": [
        ""
      ],
      "metadata": {
        "id": "_VduLai1SVfO"
      },
      "execution_count": null,
      "outputs": []
    },
    {
      "cell_type": "markdown",
      "source": [
        "The clear() method empties the list. The list still remains, but it has no content.\n",
        "\n"
      ],
      "metadata": {
        "id": "2f_AiqKSSZox"
      }
    },
    {
      "cell_type": "code",
      "source": [
        "thislist = [\"apple\", \"banana\", \"cherry\"]\n",
        "thislist.clear()\n",
        "print(thislist)"
      ],
      "metadata": {
        "id": "XJdqyg5ySem4"
      },
      "execution_count": null,
      "outputs": []
    },
    {
      "cell_type": "markdown",
      "source": [
        "There are a bunch more list methods here: https://www.w3schools.com/python/python_lists_methods.asp\n",
        "\n",
        "Below, use two of them:"
      ],
      "metadata": {
        "id": "AqZIi7ufi6Y5"
      }
    },
    {
      "cell_type": "code",
      "source": [
        ""
      ],
      "metadata": {
        "id": "cjrv7P1_jBDk"
      },
      "execution_count": null,
      "outputs": []
    },
    {
      "cell_type": "code",
      "source": [
        ""
      ],
      "metadata": {
        "id": "FzUzeQNajBOt"
      },
      "execution_count": null,
      "outputs": []
    },
    {
      "cell_type": "markdown",
      "source": [
        "Tuples are used to store multiple items in a single variable.\n",
        "\n",
        "Tuple is one of 4 built-in data types in Python used to store collections of data, the other 3 are List, Set, and Dictionary, all with different qualities and usage.\n",
        "\n",
        "A tuple is a collection which is ordered and unchangeable.\n",
        "\n",
        "Tuples are written with round brackets.\n",
        "\n"
      ],
      "metadata": {
        "id": "Fo8O3JeThEZd"
      }
    },
    {
      "cell_type": "code",
      "source": [
        "thistuple = (\"apple\", \"banana\", \"cherry\")\n",
        "print(thistuple)"
      ],
      "metadata": {
        "id": "ONUTGDAOhGXi"
      },
      "execution_count": null,
      "outputs": []
    },
    {
      "cell_type": "markdown",
      "source": [
        "Tuple items are ordered, unchangeable, and allow duplicate values.\n",
        "\n",
        "Tuple items are indexed, the first item has index [0], the second item has index [1] etc. Since tuples are indexed, they can have items with the same value:\n",
        "\n"
      ],
      "metadata": {
        "id": "riDobEjihJQ6"
      }
    },
    {
      "cell_type": "code",
      "source": [
        "thistuple = (\"apple\", \"banana\", \"cherry\", \"apple\", \"cherry\")\n",
        "print(thistuple)"
      ],
      "metadata": {
        "id": "Cfp5Vp6whQmR"
      },
      "execution_count": null,
      "outputs": []
    },
    {
      "cell_type": "markdown",
      "source": [
        "To determine how many items a tuple has, use the len() function:\n",
        "\n"
      ],
      "metadata": {
        "id": "M47FC_z-hT_q"
      }
    },
    {
      "cell_type": "code",
      "source": [
        "thistuple = (\"apple\", \"banana\", \"cherry\")\n",
        "print(len(thistuple))"
      ],
      "metadata": {
        "id": "-Ttfr7SGhUYZ"
      },
      "execution_count": null,
      "outputs": []
    },
    {
      "cell_type": "markdown",
      "source": [
        "To create a tuple with only one item, you have to add a comma after the item, otherwise Python will not recognize it as a tuple.\n",
        "\n"
      ],
      "metadata": {
        "id": "-DTeW3uBhX2J"
      }
    },
    {
      "cell_type": "code",
      "source": [
        "thistuple = (\"apple\",)\n",
        "print(type(thistuple))\n",
        "\n",
        "#NOT a tuple\n",
        "thistuple = (\"apple\")\n",
        "print(type(thistuple))"
      ],
      "metadata": {
        "colab": {
          "base_uri": "https://localhost:8080/"
        },
        "id": "5BcgX5QzhaBT",
        "outputId": "c55fe89d-e84b-4231-b89a-695f1ba696e3"
      },
      "execution_count": null,
      "outputs": [
        {
          "output_type": "stream",
          "name": "stdout",
          "text": [
            "<class 'tuple'>\n",
            "<class 'str'>\n"
          ]
        }
      ]
    },
    {
      "cell_type": "markdown",
      "source": [
        "A tuple can contain different data types:\n",
        "\n"
      ],
      "metadata": {
        "id": "3zwCPoV3hdQ4"
      }
    },
    {
      "cell_type": "code",
      "source": [
        "tuple1 = (\"abc\", 34, True, 40, \"male\")\n"
      ],
      "metadata": {
        "id": "GK0ZA3izhdm7"
      },
      "execution_count": null,
      "outputs": []
    },
    {
      "cell_type": "markdown",
      "source": [
        "It is also possible to use the tuple() constructor to make a tuple.\n",
        "\n"
      ],
      "metadata": {
        "id": "v-PEMQ-Uhig6"
      }
    },
    {
      "cell_type": "code",
      "source": [
        "thistuple = tuple((\"apple\", \"banana\", \"cherry\")) # note the double round-brackets\n",
        "print(thistuple)"
      ],
      "metadata": {
        "id": "sTHsu61Chi-e"
      },
      "execution_count": null,
      "outputs": []
    },
    {
      "cell_type": "markdown",
      "source": [
        "Below, create a tuple:"
      ],
      "metadata": {
        "id": "rvFTfCdehknv"
      }
    },
    {
      "cell_type": "code",
      "source": [
        ""
      ],
      "metadata": {
        "id": "2fenV9CEhmdx"
      },
      "execution_count": null,
      "outputs": []
    },
    {
      "cell_type": "markdown",
      "source": [
        "You can access tuple items by referring to the index number, inside square brackets:\n",
        "\n"
      ],
      "metadata": {
        "id": "5OyjbX0Zhs88"
      }
    },
    {
      "cell_type": "code",
      "source": [
        "thistuple = (\"apple\", \"banana\", \"cherry\")\n",
        "print(thistuple[1])"
      ],
      "metadata": {
        "id": "KFNE1tJXht4d"
      },
      "execution_count": null,
      "outputs": []
    },
    {
      "cell_type": "markdown",
      "source": [
        "You can access tuple items the exact same way as list. All the methods we used for lists above, also can be used for tuples"
      ],
      "metadata": {
        "id": "LCPR_0BPhvLX"
      }
    },
    {
      "cell_type": "markdown",
      "source": [
        "Below, use negative indexing to access items in a tuple you created."
      ],
      "metadata": {
        "id": "tVjZHXCzh0lV"
      }
    },
    {
      "cell_type": "code",
      "source": [
        ""
      ],
      "metadata": {
        "id": "J2DoRl_biCDt"
      },
      "execution_count": null,
      "outputs": []
    },
    {
      "cell_type": "markdown",
      "source": [
        "Once a tuple is created, you cannot change its values. Tuples are unchangeable, or immutable as it also is called.\n",
        "\n",
        "But there is a workaround. You can convert the tuple into a list, change the list, and convert the list back into a tuple.\n",
        "\n"
      ],
      "metadata": {
        "id": "7R43SduKiCRR"
      }
    },
    {
      "cell_type": "code",
      "source": [
        "x = (\"apple\", \"banana\", \"cherry\")\n",
        "y = list(x)\n",
        "y[1] = \"kiwi\"\n",
        "x = tuple(y)\n",
        "\n",
        "print(x)"
      ],
      "metadata": {
        "id": "TPHT_2LgiC2-"
      },
      "execution_count": null,
      "outputs": []
    },
    {
      "cell_type": "markdown",
      "source": [
        "Below, remove the third item in tuple x, using the same method as above."
      ],
      "metadata": {
        "id": "ZcUVYys0iEPo"
      }
    },
    {
      "cell_type": "code",
      "source": [
        ""
      ],
      "metadata": {
        "id": "mioyazyoiJ-4"
      },
      "execution_count": null,
      "outputs": []
    },
    {
      "cell_type": "markdown",
      "source": [
        "When we create a tuple, we normally assign values to it. This is called \"packing\" a tuple:\n",
        "\n"
      ],
      "metadata": {
        "id": "aeW6Mg0BiOuD"
      }
    },
    {
      "cell_type": "code",
      "source": [
        "fruits = (\"apple\", \"banana\", \"cherry\")\n"
      ],
      "metadata": {
        "id": "pFGFOtxiiPK9"
      },
      "execution_count": null,
      "outputs": []
    },
    {
      "cell_type": "markdown",
      "source": [
        "But, in Python, we are also allowed to extract the values back into variables. This is called \"unpacking\":\n",
        "\n"
      ],
      "metadata": {
        "id": "2QhFRibtiQmD"
      }
    },
    {
      "cell_type": "code",
      "source": [
        "fruits = (\"apple\", \"banana\", \"cherry\")\n",
        "\n",
        "(green, yellow, red) = fruits\n",
        "\n",
        "print(green)\n",
        "print(yellow)\n",
        "print(red)"
      ],
      "metadata": {
        "id": "oB8QKt5riR9g"
      },
      "execution_count": null,
      "outputs": []
    },
    {
      "cell_type": "markdown",
      "source": [
        "To join two or more tuples you can use the + operator:\n",
        "\n"
      ],
      "metadata": {
        "id": "CsqXMV1DiaNu"
      }
    },
    {
      "cell_type": "code",
      "source": [
        "tuple1 = (\"a\", \"b\" , \"c\")\n",
        "tuple2 = (1, 2, 3)\n",
        "\n",
        "tuple3 = tuple1 + tuple2\n",
        "print(tuple3)"
      ],
      "metadata": {
        "id": "9fosTKleiaxs"
      },
      "execution_count": null,
      "outputs": []
    },
    {
      "cell_type": "markdown",
      "source": [
        "Make two tuples below and join them."
      ],
      "metadata": {
        "id": "IxLhBsMHicUR"
      }
    },
    {
      "cell_type": "code",
      "source": [
        ""
      ],
      "metadata": {
        "id": "lh9TLWbXiejy"
      },
      "execution_count": null,
      "outputs": []
    },
    {
      "cell_type": "markdown",
      "source": [
        "If you want to multiply the content of a tuple a given number of times, you can use the * operator:\n",
        "\n"
      ],
      "metadata": {
        "id": "jY0f-Hldijz8"
      }
    },
    {
      "cell_type": "code",
      "source": [
        "fruits = (\"apple\", \"banana\", \"cherry\")\n",
        "mytuple = fruits * 3\n",
        "\n",
        "print(mytuple)"
      ],
      "metadata": {
        "colab": {
          "base_uri": "https://localhost:8080/"
        },
        "id": "iu7w4A2yikMM",
        "outputId": "221b3d3e-aa45-4fe2-dbba-f72686f3ed19"
      },
      "execution_count": null,
      "outputs": [
        {
          "output_type": "stream",
          "name": "stdout",
          "text": [
            "('apple', 'banana', 'cherry', 'apple', 'banana', 'cherry', 'apple', 'banana', 'cherry')\n"
          ]
        }
      ]
    },
    {
      "cell_type": "markdown",
      "source": [
        "Python has two built-in methods that you can use on tuples. You can find them here: https://www.w3schools.com/python/python_tuples_methods.asp\n",
        "\n",
        "Below, use one of the tuple methods:"
      ],
      "metadata": {
        "id": "jqgaKr1GiuaY"
      }
    },
    {
      "cell_type": "code",
      "source": [
        ""
      ],
      "metadata": {
        "id": "EUQFa5pdi280"
      },
      "execution_count": null,
      "outputs": []
    },
    {
      "cell_type": "markdown",
      "source": [
        "Sets are used to store multiple items in a single variable.\n",
        "\n",
        "Set is one of 4 built-in data types in Python used to store collections of data, the other 3 are List, Tuple, and Dictionary, all with different qualities and usage.\n",
        "\n",
        "A set is a collection which is unordered, unchangeable*, and unindexed.\n",
        "\n"
      ],
      "metadata": {
        "id": "79NNH8tLi3L2"
      }
    },
    {
      "cell_type": "markdown",
      "source": [
        "Sets are written with curly brackets.\n",
        "\n"
      ],
      "metadata": {
        "id": "sxeUnrMzjNvz"
      }
    },
    {
      "cell_type": "code",
      "source": [
        "thisset = {\"apple\", \"banana\", \"cherry\"}\n",
        "print(thisset)"
      ],
      "metadata": {
        "id": "mcn6ilNsjPHO"
      },
      "execution_count": null,
      "outputs": []
    },
    {
      "cell_type": "markdown",
      "source": [
        "Sets cannot have two items with the same value.\n",
        "\n"
      ],
      "metadata": {
        "id": "-_f8hWbUjbQN"
      }
    },
    {
      "cell_type": "code",
      "source": [
        "thisset = {\"apple\", \"banana\", \"cherry\", \"apple\"}\n",
        "\n",
        "print(thisset)"
      ],
      "metadata": {
        "id": "oNMA-pjkjccj"
      },
      "execution_count": null,
      "outputs": []
    },
    {
      "cell_type": "markdown",
      "source": [
        "To determine how many items a set has, use the len() method.\n",
        "\n"
      ],
      "metadata": {
        "id": "2ElTrZD5jge_"
      }
    },
    {
      "cell_type": "code",
      "source": [
        "thisset = {\"apple\", \"banana\", \"cherry\"}\n",
        "\n",
        "print(len(thisset))"
      ],
      "metadata": {
        "id": "O3AUbnEpjg0A"
      },
      "execution_count": null,
      "outputs": []
    },
    {
      "cell_type": "markdown",
      "source": [
        "A set can contain different data types:\n",
        "\n"
      ],
      "metadata": {
        "id": "uXHWZgx7jkQp"
      }
    },
    {
      "cell_type": "code",
      "source": [
        "set1 = {\"abc\", 34, True, 40, \"male\"}\n"
      ],
      "metadata": {
        "id": "HTPSAiZAjl6C"
      },
      "execution_count": null,
      "outputs": []
    },
    {
      "cell_type": "markdown",
      "source": [
        "It is also possible to use the set() constructor to make a set.\n",
        "\n"
      ],
      "metadata": {
        "id": "S7joelTejoaN"
      }
    },
    {
      "cell_type": "code",
      "source": [
        "thisset = set((\"apple\", \"banana\", \"cherry\")) # note the double round-brackets\n",
        "print(thisset)"
      ],
      "metadata": {
        "id": "j6pF1C4Ojow1"
      },
      "execution_count": null,
      "outputs": []
    },
    {
      "cell_type": "markdown",
      "source": [
        "You cannot access items in a set by referring to an index or a key. But you can loop through the set items using a for loop, or ask if a specified value is present in a set, by using the in keyword. We will look through this later when we introduce loops."
      ],
      "metadata": {
        "id": "KpoG1SFCjtqe"
      }
    },
    {
      "cell_type": "markdown",
      "source": [
        "To add one item to a set use the add() method.\n",
        "\n"
      ],
      "metadata": {
        "id": "W_e4mT-6j9Hp"
      }
    },
    {
      "cell_type": "code",
      "source": [
        "thisset = {\"apple\", \"banana\", \"cherry\"}\n",
        "\n",
        "thisset.add(\"orange\")\n",
        "\n",
        "print(thisset)"
      ],
      "metadata": {
        "id": "v9_0y5jqj-t7"
      },
      "execution_count": null,
      "outputs": []
    },
    {
      "cell_type": "markdown",
      "source": [
        "Add another fruit to thisset below:"
      ],
      "metadata": {
        "id": "6auORXjckAg1"
      }
    },
    {
      "cell_type": "code",
      "source": [
        ""
      ],
      "metadata": {
        "id": "2Ldh_8NVkEOd"
      },
      "execution_count": null,
      "outputs": []
    },
    {
      "cell_type": "markdown",
      "source": [
        "To add items from another set into the current set, use the update() method.\n",
        "\n"
      ],
      "metadata": {
        "id": "ckWVtdL_kEed"
      }
    },
    {
      "cell_type": "code",
      "source": [
        "thisset = {\"apple\", \"banana\", \"cherry\"}\n",
        "tropical = {\"pineapple\", \"mango\", \"papaya\"}\n",
        "\n",
        "thisset.update(tropical)\n",
        "\n",
        "print(thisset)"
      ],
      "metadata": {
        "id": "TqfmX3fFkGUP"
      },
      "execution_count": null,
      "outputs": []
    },
    {
      "cell_type": "markdown",
      "source": [
        "The object in the update() method does not have to be a set, it can be any iterable object (tuples, lists, dictionaries etc.).\n",
        "\n"
      ],
      "metadata": {
        "id": "kAKloQejkJSi"
      }
    },
    {
      "cell_type": "code",
      "source": [
        "thisset = {\"apple\", \"banana\", \"cherry\"}\n",
        "mylist = [\"kiwi\", \"orange\"]\n",
        "\n",
        "thisset.update(mylist)\n",
        "\n",
        "print(thisset)"
      ],
      "metadata": {
        "id": "vNBZBYNzkJms"
      },
      "execution_count": null,
      "outputs": []
    },
    {
      "cell_type": "markdown",
      "source": [
        "Below, combine two sets:"
      ],
      "metadata": {
        "id": "jD5HQ2t_kL_C"
      }
    },
    {
      "cell_type": "code",
      "source": [
        ""
      ],
      "metadata": {
        "id": "1PYuWmf8kO0B"
      },
      "execution_count": null,
      "outputs": []
    },
    {
      "cell_type": "markdown",
      "source": [
        "To remove an item in a set, use the remove(), or the discard() method.\n",
        "\n"
      ],
      "metadata": {
        "id": "NKIntjd_kRw2"
      }
    },
    {
      "cell_type": "code",
      "source": [
        "thisset = {\"apple\", \"banana\", \"cherry\"}\n",
        "\n",
        "thisset.remove(\"banana\")\n",
        "\n",
        "print(thisset)"
      ],
      "metadata": {
        "id": "sO7kKnkPkTxs"
      },
      "execution_count": null,
      "outputs": []
    },
    {
      "cell_type": "code",
      "source": [
        "thisset = {\"apple\", \"banana\", \"cherry\"}\n",
        "\n",
        "thisset.discard(\"banana\")\n",
        "\n",
        "print(thisset)"
      ],
      "metadata": {
        "id": "cIHDUYR0kXOB"
      },
      "execution_count": null,
      "outputs": []
    },
    {
      "cell_type": "markdown",
      "source": [
        "Remove another item from thisset below:"
      ],
      "metadata": {
        "id": "5h_0ZLlJkb79"
      }
    },
    {
      "cell_type": "code",
      "source": [
        ""
      ],
      "metadata": {
        "id": "oWZL59Krkee_"
      },
      "execution_count": null,
      "outputs": []
    },
    {
      "cell_type": "markdown",
      "source": [
        "The clear() method empties the set:\n",
        "\n"
      ],
      "metadata": {
        "id": "A1VCpfivkerR"
      }
    },
    {
      "cell_type": "code",
      "source": [
        "thisset = {\"apple\", \"banana\", \"cherry\"}\n",
        "\n",
        "thisset.clear()\n",
        "\n",
        "print(thisset)"
      ],
      "metadata": {
        "id": "w12U9jDZkf-7"
      },
      "execution_count": null,
      "outputs": []
    },
    {
      "cell_type": "markdown",
      "source": [
        "The intersection_update() method will keep only the items that are present in both sets."
      ],
      "metadata": {
        "id": "QNvAELxjktRf"
      }
    },
    {
      "cell_type": "code",
      "source": [
        "x = {\"apple\", \"banana\", \"cherry\"}\n",
        "y = {\"google\", \"microsoft\", \"apple\"}\n",
        "\n",
        "x.intersection_update(y)\n",
        "\n",
        "print(x)"
      ],
      "metadata": {
        "id": "jaH7oQeLktnj"
      },
      "execution_count": null,
      "outputs": []
    },
    {
      "cell_type": "markdown",
      "source": [
        "The intersection() method will return a new set, that only contains the items that are present in both sets.\n",
        "\n"
      ],
      "metadata": {
        "id": "R50B5O29kyBJ"
      }
    },
    {
      "cell_type": "code",
      "source": [
        "x = {\"apple\", \"banana\", \"cherry\"}\n",
        "y = {\"google\", \"microsoft\", \"apple\"}\n",
        "\n",
        "z = x.intersection(y)\n",
        "\n",
        "print(z)"
      ],
      "metadata": {
        "id": "mCczpmoxkyW7"
      },
      "execution_count": null,
      "outputs": []
    },
    {
      "cell_type": "markdown",
      "source": [
        "The symmetric_difference_update() method will keep only the elements that are NOT present in both sets.\n",
        "\n"
      ],
      "metadata": {
        "id": "q9kOowuTk14V"
      }
    },
    {
      "cell_type": "code",
      "source": [
        "x = {\"apple\", \"banana\", \"cherry\"}\n",
        "y = {\"google\", \"microsoft\", \"apple\"}\n",
        "\n",
        "x.symmetric_difference_update(y)\n",
        "\n",
        "print(x)"
      ],
      "metadata": {
        "id": "Tvfs1Xx1k2Ug"
      },
      "execution_count": null,
      "outputs": []
    },
    {
      "cell_type": "markdown",
      "source": [
        "The symmetric_difference() method will return a new set, that contains only the elements that are NOT present in both sets."
      ],
      "metadata": {
        "id": "s0sMn13Fk6Hd"
      }
    },
    {
      "cell_type": "code",
      "source": [
        "x = {\"apple\", \"banana\", \"cherry\"}\n",
        "y = {\"google\", \"microsoft\", \"apple\"}\n",
        "\n",
        "z = x.symmetric_difference(y)\n",
        "\n",
        "print(z)"
      ],
      "metadata": {
        "id": "AccWrImik8VO"
      },
      "execution_count": null,
      "outputs": []
    },
    {
      "cell_type": "markdown",
      "source": [
        "Note that there are two versions, one with and without update of the previous two methods. The update methods will replace an existing set, while the the non-update methods will create a new set. "
      ],
      "metadata": {
        "id": "LGjc4RGrk8n-"
      }
    },
    {
      "cell_type": "markdown",
      "source": [
        "Use one of the methods above below:"
      ],
      "metadata": {
        "id": "xkUbPTeElEoC"
      }
    },
    {
      "cell_type": "code",
      "source": [
        ""
      ],
      "metadata": {
        "id": "XCUmCnLDlHJm"
      },
      "execution_count": null,
      "outputs": []
    },
    {
      "cell_type": "markdown",
      "source": [
        "Below, use two other methods for sets (found here: https://www.w3schools.com/python/python_sets_methods.asp    )"
      ],
      "metadata": {
        "id": "Fe38jVI4lKCT"
      }
    },
    {
      "cell_type": "code",
      "source": [
        ""
      ],
      "metadata": {
        "id": "7VbEFDijlNwF"
      },
      "execution_count": null,
      "outputs": []
    },
    {
      "cell_type": "code",
      "source": [
        ""
      ],
      "metadata": {
        "id": "Z6DPr_1zlODl"
      },
      "execution_count": null,
      "outputs": []
    },
    {
      "cell_type": "markdown",
      "source": [
        "Dictionaries are used to store data values in key:value pairs.\n",
        "\n",
        "A dictionary is a collection which is ordered*, changeable and do not allow duplicates.\n",
        "\n"
      ],
      "metadata": {
        "id": "pZzpftKYLMwc"
      }
    },
    {
      "cell_type": "code",
      "source": [
        "thisdict = {\n",
        "  \"brand\": \"Ford\",\n",
        "  \"model\": \"Mustang\",\n",
        "  \"year\": 1964\n",
        "}\n",
        "print(thisdict)"
      ],
      "metadata": {
        "id": "SAl-_rwuLQn1"
      },
      "execution_count": null,
      "outputs": []
    },
    {
      "cell_type": "markdown",
      "source": [
        "Dictionary items are ordered, changeable, and does not allow duplicates.\n",
        "\n",
        "Dictionary items are presented in key:value pairs, and can be referred to by using the key name.\n",
        "\n"
      ],
      "metadata": {
        "id": "3AMQg4Q8LS8h"
      }
    },
    {
      "cell_type": "code",
      "source": [
        "print(thisdict[\"brand\"])\n"
      ],
      "metadata": {
        "id": "WVb3jFqBLV3v"
      },
      "execution_count": null,
      "outputs": []
    },
    {
      "cell_type": "markdown",
      "source": [
        "Duplicate values will overwrite existing values:\n",
        "\n"
      ],
      "metadata": {
        "id": "l6qZ8SS8Laqv"
      }
    },
    {
      "cell_type": "code",
      "source": [
        "thisdict = {\n",
        "  \"brand\": \"Ford\",\n",
        "  \"model\": \"Mustang\",\n",
        "  \"year\": 1964,\n",
        "  \"year\": 2020\n",
        "}\n",
        "print(thisdict)"
      ],
      "metadata": {
        "id": "SbOtL92dLbCB"
      },
      "execution_count": null,
      "outputs": []
    },
    {
      "cell_type": "markdown",
      "source": [
        "Below, create another dictionary and access an item from it."
      ],
      "metadata": {
        "id": "Qh9lphWHLc5P"
      }
    },
    {
      "cell_type": "code",
      "source": [
        ""
      ],
      "metadata": {
        "id": "LXRTwGrxLfby"
      },
      "execution_count": null,
      "outputs": []
    },
    {
      "cell_type": "markdown",
      "source": [
        "You can change the value of a specific item by referring to its key name:\n",
        "\n"
      ],
      "metadata": {
        "id": "XwhhmiRgMdym"
      }
    },
    {
      "cell_type": "code",
      "source": [
        "thisdict = {\n",
        "  \"brand\": \"Ford\",\n",
        "  \"model\": \"Mustang\",\n",
        "  \"year\": 1964\n",
        "}\n",
        "thisdict[\"year\"] = 2018"
      ],
      "metadata": {
        "id": "08t7MND1MfCz"
      },
      "execution_count": null,
      "outputs": []
    },
    {
      "cell_type": "markdown",
      "source": [
        "The update() method will update the dictionary with the items from the given argument.\n",
        "\n",
        "The argument must be a dictionary, or an iterable object with key:value pairs.\n",
        "\n"
      ],
      "metadata": {
        "id": "IXKvIYOTMhq2"
      }
    },
    {
      "cell_type": "code",
      "source": [
        "thisdict = {\n",
        "  \"brand\": \"Ford\",\n",
        "  \"model\": \"Mustang\",\n",
        "  \"year\": 1964\n",
        "}\n",
        "thisdict.update({\"year\": 2020})"
      ],
      "metadata": {
        "id": "Su43t5eDMjf0"
      },
      "execution_count": null,
      "outputs": []
    },
    {
      "cell_type": "markdown",
      "source": [
        "The update() method will update the dictionary with the items from a given argument. If the item does not exist, the item will be added.\n"
      ],
      "metadata": {
        "id": "lQxgI_17M2j8"
      }
    },
    {
      "cell_type": "code",
      "source": [
        "thisdict = {\n",
        "  \"brand\": \"Ford\",\n",
        "  \"model\": \"Mustang\",\n",
        "  \"year\": 1964\n",
        "}\n",
        "thisdict.update({\"color\": \"red\"})"
      ],
      "metadata": {
        "id": "WZdPGUm-M5z9"
      },
      "execution_count": null,
      "outputs": []
    },
    {
      "cell_type": "markdown",
      "source": [
        "To determine how many items a dictionary has, use the len() function:\n",
        "\n"
      ],
      "metadata": {
        "id": "hEMvu9MBLfi6"
      }
    },
    {
      "cell_type": "code",
      "source": [
        "print(len(thisdict))\n"
      ],
      "metadata": {
        "id": "oMxj4lBiLhQk"
      },
      "execution_count": null,
      "outputs": []
    },
    {
      "cell_type": "markdown",
      "source": [
        "The values in dictionary items can be of any data type:\n",
        "\n"
      ],
      "metadata": {
        "id": "drphOYszLkXx"
      }
    },
    {
      "cell_type": "code",
      "source": [
        "thisdict = {\n",
        "  \"brand\": \"Ford\",\n",
        "  \"electric\": False,\n",
        "  \"year\": 1964,\n",
        "  \"colors\": [\"red\", \"white\", \"blue\"]\n",
        "}"
      ],
      "metadata": {
        "id": "iGfDrLnYLksO"
      },
      "execution_count": null,
      "outputs": []
    },
    {
      "cell_type": "markdown",
      "source": [
        "There is also a method called get() that will give you the same result as indexing.\n",
        "\n"
      ],
      "metadata": {
        "id": "xcu6bGocLpUM"
      }
    },
    {
      "cell_type": "code",
      "source": [
        "x = thisdict.get(\"model\")\n"
      ],
      "metadata": {
        "id": "3-fvKguULsZn"
      },
      "execution_count": null,
      "outputs": []
    },
    {
      "cell_type": "markdown",
      "source": [
        "The keys() method will return a list of all the keys in the dictionary.\n",
        "\n"
      ],
      "metadata": {
        "id": "QgFNMCrWLu_E"
      }
    },
    {
      "cell_type": "code",
      "source": [
        "x = thisdict.keys()\n"
      ],
      "metadata": {
        "id": "MCA7rZ7iLvRo"
      },
      "execution_count": null,
      "outputs": []
    },
    {
      "cell_type": "markdown",
      "source": [
        "The list of the keys is a view of the dictionary, meaning that any changes done to the dictionary will be reflected in the keys list.\n",
        "\n"
      ],
      "metadata": {
        "id": "OTjcDo6JLy0W"
      }
    },
    {
      "cell_type": "code",
      "source": [
        "car = {\n",
        "\"brand\": \"Ford\",\n",
        "\"model\": \"Mustang\",\n",
        "\"year\": 1964\n",
        "}\n",
        "\n",
        "x = car.keys()\n",
        "\n",
        "print(x) #before the change\n",
        "\n",
        "car[\"color\"] = \"white\"\n",
        "\n",
        "print(x) #after the change"
      ],
      "metadata": {
        "id": "js0VT4o6Lzht"
      },
      "execution_count": null,
      "outputs": []
    },
    {
      "cell_type": "markdown",
      "source": [
        "The values() method will return a list of all the values in the dictionary.\n",
        "\n"
      ],
      "metadata": {
        "id": "dI3mg1DKL5pL"
      }
    },
    {
      "cell_type": "code",
      "source": [
        "x = thisdict.values()\n"
      ],
      "metadata": {
        "id": "BwrnLJMcL8DF"
      },
      "execution_count": null,
      "outputs": []
    },
    {
      "cell_type": "markdown",
      "source": [
        "The list of the values is a view of the dictionary, meaning that any changes done to the dictionary will be reflected in the values list.\n",
        "\n"
      ],
      "metadata": {
        "id": "TnuyLRI4MCeJ"
      }
    },
    {
      "cell_type": "code",
      "source": [
        "car = {\n",
        "\"brand\": \"Ford\",\n",
        "\"model\": \"Mustang\",\n",
        "\"year\": 1964\n",
        "}\n",
        "\n",
        "x = car.values()\n",
        "\n",
        "print(x) #before the change\n",
        "\n",
        "car[\"year\"] = 2020\n",
        "\n",
        "print(x) #after the change"
      ],
      "metadata": {
        "id": "bG693tx1MCzn"
      },
      "execution_count": null,
      "outputs": []
    },
    {
      "cell_type": "markdown",
      "source": [
        "The items() method will return each item in a dictionary, as tuples in a list.\n",
        "\n"
      ],
      "metadata": {
        "id": "VaWw7qgRMGGa"
      }
    },
    {
      "cell_type": "code",
      "source": [
        "x = thisdict.items()\n"
      ],
      "metadata": {
        "id": "EJMjeoVDMGbq"
      },
      "execution_count": null,
      "outputs": []
    },
    {
      "cell_type": "markdown",
      "source": [
        "To determine if a specified key is present in a dictionary use the in keyword:\n",
        "\n"
      ],
      "metadata": {
        "id": "HtXlxBbFMO7P"
      }
    },
    {
      "cell_type": "code",
      "source": [
        "thisdict = {\n",
        "  \"brand\": \"Ford\",\n",
        "  \"model\": \"Mustang\",\n",
        "  \"year\": 1964\n",
        "}\n",
        "if \"model\" in thisdict:\n",
        "  print(\"Yes, 'model' is one of the keys in the thisdict dictionary\")"
      ],
      "metadata": {
        "id": "E_GPzCLIMQyO"
      },
      "execution_count": null,
      "outputs": []
    },
    {
      "cell_type": "markdown",
      "source": [
        "Create a dictionary below, and print out all of the keys in the dictionary."
      ],
      "metadata": {
        "id": "GYIMl8heMnyR"
      }
    },
    {
      "cell_type": "code",
      "source": [
        ""
      ],
      "metadata": {
        "id": "D4zY9pbWMrX-"
      },
      "execution_count": null,
      "outputs": []
    },
    {
      "cell_type": "markdown",
      "source": [
        "Adding an item to the dictionary is done by using a new index key and assigning a value to it:\n",
        "\n"
      ],
      "metadata": {
        "id": "VS4xiuzrMre5"
      }
    },
    {
      "cell_type": "code",
      "source": [
        "thisdict = {\n",
        "  \"brand\": \"Ford\",\n",
        "  \"model\": \"Mustang\",\n",
        "  \"year\": 1964\n",
        "}\n",
        "thisdict[\"color\"] = \"red\"\n",
        "print(thisdict)"
      ],
      "metadata": {
        "id": "ieZOEGKtMwGk"
      },
      "execution_count": null,
      "outputs": []
    },
    {
      "cell_type": "markdown",
      "source": [
        "The pop() method removes the item with the specified key name:\n",
        "\n"
      ],
      "metadata": {
        "id": "o_BzQSvINE15"
      }
    },
    {
      "cell_type": "code",
      "source": [
        "thisdict = {\n",
        "  \"brand\": \"Ford\",\n",
        "  \"model\": \"Mustang\",\n",
        "  \"year\": 1964\n",
        "}\n",
        "thisdict.pop(\"model\")\n",
        "print(thisdict)"
      ],
      "metadata": {
        "colab": {
          "base_uri": "https://localhost:8080/"
        },
        "id": "b9qY_6w7NFPX",
        "outputId": "f10d0ce4-94d5-4660-8740-91dfb1d7fa2b"
      },
      "execution_count": null,
      "outputs": [
        {
          "output_type": "stream",
          "name": "stdout",
          "text": [
            "{'brand': 'Ford', 'year': 1964}\n"
          ]
        }
      ]
    },
    {
      "cell_type": "markdown",
      "source": [
        "The clear() method empties the dictionary:\n",
        "\n"
      ],
      "metadata": {
        "id": "jUNSKF8TN1mF"
      }
    },
    {
      "cell_type": "code",
      "source": [
        "thisdict = {\n",
        "  \"brand\": \"Ford\",\n",
        "  \"model\": \"Mustang\",\n",
        "  \"year\": 1964\n",
        "}\n",
        "thisdict.clear()\n",
        "print(thisdict)"
      ],
      "metadata": {
        "id": "KczVtqKFN17T"
      },
      "execution_count": null,
      "outputs": []
    },
    {
      "cell_type": "markdown",
      "source": [
        "You cannot copy a dictionary simply by typing dict2 = dict1, because: dict2 will only be a reference to dict1, and changes made in dict1 will automatically also be made in dict2.\n",
        "\n",
        "There are ways to make a copy, one way is to use the built-in Dictionary method copy(). THIS IS THE SAME FOR LISTS!"
      ],
      "metadata": {
        "id": "pxuJVFkcN6tZ"
      }
    },
    {
      "cell_type": "code",
      "source": [
        "thisdict = {\n",
        "  \"brand\": \"Ford\",\n",
        "  \"model\": \"Mustang\",\n",
        "  \"year\": 1964\n",
        "}\n",
        "mydict = thisdict.copy()\n",
        "print(mydict)"
      ],
      "metadata": {
        "id": "9QxUFpzrN7Fc"
      },
      "execution_count": null,
      "outputs": []
    },
    {
      "cell_type": "markdown",
      "source": [
        "A dictionary can contain dictionaries, this is called nested dictionaries.\n",
        "\n"
      ],
      "metadata": {
        "id": "L6XZC8V6OIiJ"
      }
    },
    {
      "cell_type": "code",
      "source": [
        "myfamily = {\n",
        "  \"child1\" : {\n",
        "    \"name\" : \"Emil\",\n",
        "    \"year\" : 2004\n",
        "  },\n",
        "  \"child2\" : {\n",
        "    \"name\" : \"Tobias\",\n",
        "    \"year\" : 2007\n",
        "  },\n",
        "  \"child3\" : {\n",
        "    \"name\" : \"Linus\",\n",
        "    \"year\" : 2011\n",
        "  }\n",
        "}"
      ],
      "metadata": {
        "id": "hA9Ec-GqOJZd"
      },
      "execution_count": null,
      "outputs": []
    },
    {
      "cell_type": "markdown",
      "source": [
        "Or, if you want to add three dictionaries into a new dictionary:\n",
        "\n"
      ],
      "metadata": {
        "id": "hpUzl4KXOMz2"
      }
    },
    {
      "cell_type": "code",
      "source": [
        "child1 = {\n",
        "  \"name\" : \"Emil\",\n",
        "  \"year\" : 2004\n",
        "}\n",
        "child2 = {\n",
        "  \"name\" : \"Tobias\",\n",
        "  \"year\" : 2007\n",
        "}\n",
        "child3 = {\n",
        "  \"name\" : \"Linus\",\n",
        "  \"year\" : 2011\n",
        "}\n",
        "\n",
        "myfamily = {\n",
        "  \"child1\" : child1,\n",
        "  \"child2\" : child2,\n",
        "  \"child3\" : child3\n",
        "}"
      ],
      "metadata": {
        "id": "-zFbnwClOOl_"
      },
      "execution_count": null,
      "outputs": []
    },
    {
      "cell_type": "markdown",
      "source": [
        "Below, create a dictionary. Copy it (using the .copy() method) and then add a dictionary as one of the values to the copied dictionary. "
      ],
      "metadata": {
        "id": "8wXik9V_OPqo"
      }
    },
    {
      "cell_type": "code",
      "source": [
        ""
      ],
      "metadata": {
        "id": "-6eSQG35OWUd"
      },
      "execution_count": null,
      "outputs": []
    },
    {
      "cell_type": "markdown",
      "source": [
        "Here is a list of dictionary methods: https://www.w3schools.com/python/python_dictionaries_methods.asp\n",
        "\n",
        "Use 1 new method in the space below:"
      ],
      "metadata": {
        "id": "D2E-0tY5MO7g"
      }
    },
    {
      "cell_type": "code",
      "source": [
        ""
      ],
      "metadata": {
        "id": "HGlR5E3fMS9x"
      },
      "execution_count": null,
      "outputs": []
    },
    {
      "cell_type": "markdown",
      "source": [
        "Python supports the usual logical conditions from mathematics:\n",
        "\n",
        "- Equals: a == b\n",
        "- Not Equals: a != b\n",
        "- Less than: a < b\n",
        "- Less than or equal to: a <= b\n",
        "- Greater than: a > b\n",
        "- Greater than or equal to: a >= b\n",
        "These conditions can be used in several ways, most commonly in \"if statements\" and loops.\n",
        "\n",
        "An \"if statement\" is written by using the if keyword.\n",
        "\n"
      ],
      "metadata": {
        "id": "FqKVqG7FMfnI"
      }
    },
    {
      "cell_type": "code",
      "source": [
        "a = 33\n",
        "b = 200\n",
        "if b > a:\n",
        "  print(\"b is greater than a\")"
      ],
      "metadata": {
        "id": "D4NuIAQwMgEY"
      },
      "execution_count": null,
      "outputs": []
    },
    {
      "cell_type": "markdown",
      "source": [
        "In this example we use two variables, a and b, which are used as part of the if statement to test whether b is greater than a. As a is 33, and b is 200, we know that 200 is greater than 33, and so we print to screen that \"b is greater than a\".\n",
        "\n"
      ],
      "metadata": {
        "id": "NwgK080yMk3Q"
      }
    },
    {
      "cell_type": "markdown",
      "source": [
        "Python relies on indentation (whitespace at the beginning of a line) to define scope in the code. Other programming languages often use curly-brackets for this purpose. If statement, without indentation (will raise an error):\n",
        "\n"
      ],
      "metadata": {
        "id": "DRvhs5wgMlP3"
      }
    },
    {
      "cell_type": "code",
      "source": [
        "a = 33\n",
        "b = 200\n",
        "if b > a:\n",
        "print(\"b is greater than a\") # you will get an error"
      ],
      "metadata": {
        "id": "2ppFM9EvMpgE"
      },
      "execution_count": null,
      "outputs": []
    },
    {
      "cell_type": "markdown",
      "source": [
        "The elif keyword is pythons way of saying \"if the previous conditions were not true, then try this condition\".\n",
        "\n"
      ],
      "metadata": {
        "id": "0ayWyMw5MtSf"
      }
    },
    {
      "cell_type": "code",
      "source": [
        "a = 33\n",
        "b = 33\n",
        "if b > a:\n",
        "  print(\"b is greater than a\")\n",
        "elif a == b:\n",
        "  print(\"a and b are equal\")"
      ],
      "metadata": {
        "id": "0xXxCYrBMvF2"
      },
      "execution_count": null,
      "outputs": []
    },
    {
      "cell_type": "markdown",
      "source": [
        "In this example a is equal to b, so the first condition is not true, but the elif condition is true, so we print to screen that \"a and b are equal\"."
      ],
      "metadata": {
        "id": "nH_klHBiMxAc"
      }
    },
    {
      "cell_type": "markdown",
      "source": [
        "The else keyword catches anything which isn't caught by the preceding conditions.\n",
        "\n"
      ],
      "metadata": {
        "id": "D7o64OEcMyr7"
      }
    },
    {
      "cell_type": "code",
      "source": [
        "a = 200\n",
        "b = 33\n",
        "if b > a:\n",
        "  print(\"b is greater than a\")\n",
        "elif a == b:\n",
        "  print(\"a and b are equal\")\n",
        "else:\n",
        "  print(\"a is greater than b\")"
      ],
      "metadata": {
        "id": "Nl_np2yuM1lA"
      },
      "execution_count": null,
      "outputs": []
    },
    {
      "cell_type": "markdown",
      "source": [
        "In this example a is greater than b, so the first condition is not true, also the elif condition is not true, so we go to the else condition and print to screen that \"a is greater than b\"."
      ],
      "metadata": {
        "id": "LfNYglkvM5pv"
      }
    },
    {
      "cell_type": "markdown",
      "source": [
        "You can also have an else without the elif:\n",
        "\n"
      ],
      "metadata": {
        "id": "KIiq3PecM7R3"
      }
    },
    {
      "cell_type": "code",
      "source": [
        "a = 200\n",
        "b = 33\n",
        "if b > a:\n",
        "  print(\"b is greater than a\")\n",
        "else:\n",
        "  print(\"b is not greater than a\")"
      ],
      "metadata": {
        "id": "fCSPUkB9M7k1"
      },
      "execution_count": null,
      "outputs": []
    },
    {
      "cell_type": "markdown",
      "source": [
        "Below, create two variable, compare them using a logical operator in an if, elif, else statement. After each if, elif, and else, print out a different phrase. "
      ],
      "metadata": {
        "id": "I6sqTLQsM_bh"
      }
    },
    {
      "cell_type": "code",
      "source": [
        ""
      ],
      "metadata": {
        "id": "X9Ac8SbJNfaG"
      },
      "execution_count": null,
      "outputs": []
    },
    {
      "cell_type": "markdown",
      "source": [
        "If you have only one statement to execute, you can put it on the same line as the if statement.\n",
        "\n"
      ],
      "metadata": {
        "id": "AuQubPHXNfgg"
      }
    },
    {
      "cell_type": "code",
      "source": [
        "if a > b: print(\"a is greater than b\")"
      ],
      "metadata": {
        "id": "yliW_-M_NiSn"
      },
      "execution_count": null,
      "outputs": []
    },
    {
      "cell_type": "markdown",
      "source": [
        "If you have only one statement to execute, one for if, and one for else, you can put it all on the same line:\n",
        "\n"
      ],
      "metadata": {
        "id": "wQTgK9W2NkIj"
      }
    },
    {
      "cell_type": "code",
      "source": [
        "a = 2\n",
        "b = 330\n",
        "print(\"A\") if a > b else print(\"B\")"
      ],
      "metadata": {
        "id": "iTMJyVE1NmG4"
      },
      "execution_count": null,
      "outputs": []
    },
    {
      "cell_type": "markdown",
      "source": [
        "Here is some review from earlier in the notebook: "
      ],
      "metadata": {
        "id": "WzVFdHt7Ns_y"
      }
    },
    {
      "cell_type": "markdown",
      "source": [
        "The and keyword is a logical operator, and is used to combine conditional statements:\n",
        "\n"
      ],
      "metadata": {
        "id": "DagRYQGcNvQ_"
      }
    },
    {
      "cell_type": "code",
      "source": [
        "a = 200\n",
        "b = 33\n",
        "c = 500\n",
        "if a > b and c > a:\n",
        "  print(\"Both conditions are True\")"
      ],
      "metadata": {
        "id": "AqccmBXINvtx"
      },
      "execution_count": null,
      "outputs": []
    },
    {
      "cell_type": "markdown",
      "source": [
        "The or keyword is a logical operator, and is used to combine conditional statements:\n",
        "\n"
      ],
      "metadata": {
        "id": "AA5KZFdeNyV3"
      }
    },
    {
      "cell_type": "code",
      "source": [
        "a = 200\n",
        "b = 33\n",
        "c = 500\n",
        "if a > b or a > c:\n",
        "  print(\"At least one of the conditions is True\")"
      ],
      "metadata": {
        "id": "wDFB130sNyrx"
      },
      "execution_count": null,
      "outputs": []
    },
    {
      "cell_type": "markdown",
      "source": [
        "You can have if statements inside if statements, this is called nested if statements.\n",
        "\n"
      ],
      "metadata": {
        "id": "r3nhD9JqN2AP"
      }
    },
    {
      "cell_type": "code",
      "source": [
        "x = 41\n",
        "\n",
        "if x > 10:\n",
        "  print(\"Above ten,\")\n",
        "  if x > 20:\n",
        "    print(\"and also above 20!\")\n",
        "  else:\n",
        "    print(\"but not above 20.\")"
      ],
      "metadata": {
        "id": "OHRuEJGSN2Vr"
      },
      "execution_count": null,
      "outputs": []
    },
    {
      "cell_type": "markdown",
      "source": [
        "Below, create your own nested if."
      ],
      "metadata": {
        "id": "DMZMM0f9N4xt"
      }
    },
    {
      "cell_type": "code",
      "source": [
        ""
      ],
      "metadata": {
        "id": "laBdUumYN6ZH"
      },
      "execution_count": null,
      "outputs": []
    },
    {
      "cell_type": "markdown",
      "source": [
        "if statements cannot be empty, but if you for some reason have an if statement with no content, put in the pass statement to avoid getting an error.\n",
        "\n"
      ],
      "metadata": {
        "id": "Kb7fl02GN6nO"
      }
    },
    {
      "cell_type": "code",
      "source": [
        "a = 33\n",
        "b = 200\n",
        "\n",
        "if b > a:\n",
        "  pass"
      ],
      "metadata": {
        "id": "AUqZHEIuN8Cl"
      },
      "execution_count": null,
      "outputs": []
    },
    {
      "cell_type": "markdown",
      "source": [
        "Python has two primitive loop commands:\n",
        "\n",
        "- while loops\n",
        "- for loops\n"
      ],
      "metadata": {
        "id": "rRS1ovMHOBN0"
      }
    },
    {
      "cell_type": "markdown",
      "source": [
        "With the while loop we can execute a set of statements as long as a condition is true.\n",
        "\n"
      ],
      "metadata": {
        "id": "4VL9vScnOGkT"
      }
    },
    {
      "cell_type": "code",
      "source": [
        "i = 1\n",
        "while i < 6:\n",
        "  print(i)\n",
        "  i += 1"
      ],
      "metadata": {
        "id": "6leKhPP-OG3K"
      },
      "execution_count": null,
      "outputs": []
    },
    {
      "cell_type": "markdown",
      "source": [
        "The while loop requires relevant variables to be ready, in this example we need to define an indexing variable, i, which we set to 1.\n",
        "\n"
      ],
      "metadata": {
        "id": "njxhTmIuOJr0"
      }
    },
    {
      "cell_type": "markdown",
      "source": [
        "With the break statement we can stop the loop even if the while condition is true:\n",
        "\n"
      ],
      "metadata": {
        "id": "g2wRZXyOOMCk"
      }
    },
    {
      "cell_type": "code",
      "source": [
        "i = 1\n",
        "while i < 6:\n",
        "  print(i)\n",
        "  if i == 3:\n",
        "    break\n",
        "  i += 1"
      ],
      "metadata": {
        "id": "Hpqg_FaMONlP"
      },
      "execution_count": null,
      "outputs": []
    },
    {
      "cell_type": "markdown",
      "source": [
        "With the continue statement we can stop the current iteration, and continue with the next:\n",
        "\n"
      ],
      "metadata": {
        "id": "qh5MEibwX2sV"
      }
    },
    {
      "cell_type": "code",
      "source": [
        "i = 0\n",
        "while i < 6:\n",
        "  i += 1 \n",
        "  if i == 3:\n",
        "    continue\n",
        "  print(i)"
      ],
      "metadata": {
        "id": "KdnpikRtX3Aa"
      },
      "execution_count": null,
      "outputs": []
    },
    {
      "cell_type": "markdown",
      "source": [
        "With the else statement we can run a block of code once when the condition no longer is true:\n",
        "\n"
      ],
      "metadata": {
        "id": "TiVK5YPsX6UN"
      }
    },
    {
      "cell_type": "code",
      "source": [
        "i = 1\n",
        "while i < 6:\n",
        "  print(i)\n",
        "  i += 1\n",
        "else:\n",
        "  print(\"i is no longer less than 6\")"
      ],
      "metadata": {
        "id": "74_1SYHoX8QT"
      },
      "execution_count": null,
      "outputs": []
    },
    {
      "cell_type": "markdown",
      "source": [
        "Create your own while loop, printing out every number from 1 to 15. After the loop runs, use an else statement to print another phrase."
      ],
      "metadata": {
        "id": "KkHPbi27X-vi"
      }
    },
    {
      "cell_type": "code",
      "source": [
        ""
      ],
      "metadata": {
        "id": "HjTew8f_YIZo"
      },
      "execution_count": null,
      "outputs": []
    },
    {
      "cell_type": "markdown",
      "source": [
        "A for loop is used for iterating over a sequence (that is either a list, a tuple, a dictionary, a set, or a string).\n",
        "\n",
        "This is less like the for keyword in other programming languages, and works more like an iterator method as found in other object-orientated programming languages.\n",
        "\n",
        "With the for loop we can execute a set of statements, once for each item in a list, tuple, set etc.\n",
        "\n"
      ],
      "metadata": {
        "id": "O1OSI-BBYIh2"
      }
    },
    {
      "cell_type": "code",
      "source": [
        "fruits = [\"apple\", \"banana\", \"cherry\"]\n",
        "for x in fruits:\n",
        "  print(x)"
      ],
      "metadata": {
        "id": "p3TbBkFEYNF2"
      },
      "execution_count": null,
      "outputs": []
    },
    {
      "cell_type": "markdown",
      "source": [
        "Even strings are iterable objects, they contain a sequence of characters:\n",
        "\n"
      ],
      "metadata": {
        "id": "RAT9kxdPYRBo"
      }
    },
    {
      "cell_type": "code",
      "source": [
        "for x in \"banana\":\n",
        "  print(x)"
      ],
      "metadata": {
        "id": "90chMdpMYRRu"
      },
      "execution_count": null,
      "outputs": []
    },
    {
      "cell_type": "markdown",
      "source": [
        "The break and continue statements work the same in for loops as they do in while loops."
      ],
      "metadata": {
        "id": "tV9RUovNYScV"
      }
    },
    {
      "cell_type": "markdown",
      "source": [
        "To loop through a set of code a specified number of times, we can use the range() function,\n",
        "The range() function returns a sequence of numbers, starting from 0 by default, and increments by 1 (by default), and ends at a specified number."
      ],
      "metadata": {
        "id": "oB21pjZCYaob"
      }
    },
    {
      "cell_type": "code",
      "source": [
        "for x in range(6):\n",
        "  print(x)"
      ],
      "metadata": {
        "id": "ol-WWZf_Ya-m"
      },
      "execution_count": null,
      "outputs": []
    },
    {
      "cell_type": "markdown",
      "source": [
        "The range() function defaults to 0 as a starting value, however it is possible to specify the starting value by adding a parameter: range(2, 6), which means values from 2 to 6 (but not including 6):"
      ],
      "metadata": {
        "id": "1QhRnLu4YeHW"
      }
    },
    {
      "cell_type": "code",
      "source": [
        "for x in range(2, 6):\n",
        "  print(x)"
      ],
      "metadata": {
        "id": "RawzsEFeYeZ1"
      },
      "execution_count": null,
      "outputs": []
    },
    {
      "cell_type": "markdown",
      "source": [
        "The range() function defaults to increment the sequence by 1, however it is possible to specify the increment value by adding a third parameter: range(2, 30, 3):"
      ],
      "metadata": {
        "id": "XipqHpf5YhG4"
      }
    },
    {
      "cell_type": "code",
      "source": [
        "for x in range(2, 30, 3):\n",
        "  print(x)"
      ],
      "metadata": {
        "id": "AnL_inW0Yhax"
      },
      "execution_count": null,
      "outputs": []
    },
    {
      "cell_type": "markdown",
      "source": [
        "The else keyword in a for loop specifies a block of code to be executed when the loop is finished:\n",
        "\n"
      ],
      "metadata": {
        "id": "FkGh_PWLYlUR"
      }
    },
    {
      "cell_type": "code",
      "source": [
        "for x in range(6):\n",
        "  print(x)\n",
        "else:\n",
        "  print(\"Finally finished!\")"
      ],
      "metadata": {
        "id": "WXnQU3hEYllq"
      },
      "execution_count": null,
      "outputs": []
    },
    {
      "cell_type": "markdown",
      "source": [
        "Note: The else block will NOT be executed if the loop is stopped by a break statement.\n",
        "\n"
      ],
      "metadata": {
        "id": "6cWL30iVYoac"
      }
    },
    {
      "cell_type": "markdown",
      "source": [
        "A nested loop is a loop inside a loop.\n",
        "\n"
      ],
      "metadata": {
        "id": "h9F33nBJYqqG"
      }
    },
    {
      "cell_type": "code",
      "source": [
        "adj = [\"red\", \"big\", \"tasty\"]\n",
        "fruits = [\"apple\", \"banana\", \"cherry\"]\n",
        "\n",
        "for x in adj:\n",
        "  for y in fruits:\n",
        "    print(x, y)"
      ],
      "metadata": {
        "id": "6P6UTZ6qYsET"
      },
      "execution_count": null,
      "outputs": []
    },
    {
      "cell_type": "markdown",
      "source": [
        "for loops cannot be empty, but if you for some reason have a for loop with no content, put in the pass statement to avoid getting an error."
      ],
      "metadata": {
        "id": "ntNidsS-YvbK"
      }
    },
    {
      "cell_type": "code",
      "source": [
        "for x in [0, 1, 2]:\n",
        "  pass"
      ],
      "metadata": {
        "id": "EB9gL4xBYvtp"
      },
      "execution_count": null,
      "outputs": []
    },
    {
      "cell_type": "markdown",
      "source": [
        "Create your own nested for loop below, printing every 2 number combination of [1, 2, 3], [8, 9, 10, 11] (taking one number from the first list and one from the second)."
      ],
      "metadata": {
        "id": "m2x6SvUfYxs0"
      }
    },
    {
      "cell_type": "code",
      "source": [
        ""
      ],
      "metadata": {
        "id": "wxI4zF0NZFJe"
      },
      "execution_count": null,
      "outputs": []
    },
    {
      "cell_type": "markdown",
      "source": [
        "A function is a block of code which only runs when it is called.\n",
        "\n",
        "You can pass data, known as parameters, into a function.\n",
        "\n",
        "A function can return data as a result.\n",
        "\n"
      ],
      "metadata": {
        "id": "DzxFUsqyZFQA"
      }
    },
    {
      "cell_type": "markdown",
      "source": [
        "In Python a function is defined using the def keyword:\n",
        "\n"
      ],
      "metadata": {
        "id": "kX15x7RRZHw5"
      }
    },
    {
      "cell_type": "code",
      "source": [
        "def my_function():\n",
        "  print(\"Hello from a function\")"
      ],
      "metadata": {
        "id": "AgNPrCbFZIJt"
      },
      "execution_count": null,
      "outputs": []
    },
    {
      "cell_type": "markdown",
      "source": [
        "To call a function, use the function name followed by parenthesis:\n",
        "\n"
      ],
      "metadata": {
        "id": "MnNP6AEMZJnT"
      }
    },
    {
      "cell_type": "code",
      "source": [
        "def my_function():\n",
        "  print(\"Hello from a function\")\n",
        "\n",
        "my_function()"
      ],
      "metadata": {
        "id": "AafYRtEvZLPh"
      },
      "execution_count": null,
      "outputs": []
    },
    {
      "cell_type": "markdown",
      "source": [
        "Information can be passed into functions as arguments.\n",
        "\n",
        "Arguments are specified after the function name, inside the parentheses. You can add as many arguments as you want, just separate them with a comma.\n",
        "\n",
        "The following example has a function with one argument (fname). When the function is called, we pass along a first name, which is used inside the function to print the full name:"
      ],
      "metadata": {
        "id": "UGfU5YM1ZOMG"
      }
    },
    {
      "cell_type": "code",
      "source": [
        "def my_function(fname):\n",
        "  print(fname + \" Refsnes\")\n",
        "\n",
        "my_function(\"Emil\")\n",
        "my_function(\"Tobias\")\n",
        "my_function(\"Linus\")"
      ],
      "metadata": {
        "id": "e9bSyP9bZOjM"
      },
      "execution_count": null,
      "outputs": []
    },
    {
      "cell_type": "markdown",
      "source": [
        "By default, a function must be called with the correct number of arguments. Meaning that if your function expects 2 arguments, you have to call the function with 2 arguments, not more, and not less.\n",
        "\n"
      ],
      "metadata": {
        "id": "zsTRCay6ZYbr"
      }
    },
    {
      "cell_type": "code",
      "source": [
        "def my_function(fname, lname):\n",
        "  print(fname + \" \" + lname)\n",
        "\n",
        "my_function(\"Emil\", \"Refsnes\")"
      ],
      "metadata": {
        "id": "WxIkgx93ZYsJ"
      },
      "execution_count": null,
      "outputs": []
    },
    {
      "cell_type": "markdown",
      "source": [
        "You can also send arguments with the key = value syntax.\n",
        "\n",
        "This way the order of the arguments does not matter.\n",
        "\n"
      ],
      "metadata": {
        "id": "oWKPzElQZfiD"
      }
    },
    {
      "cell_type": "code",
      "source": [
        "def my_function(child3, child2, child1):\n",
        "  print(\"The youngest child is \" + child3)\n",
        "\n",
        "my_function(child1 = \"Emil\", child2 = \"Tobias\", child3 = \"Linus\")"
      ],
      "metadata": {
        "id": "rMwvoKBwZf2s"
      },
      "execution_count": null,
      "outputs": []
    },
    {
      "cell_type": "markdown",
      "source": [
        "The following example shows how to use a default parameter value.\n",
        "\n",
        "If we call the function without argument, it uses the default value:"
      ],
      "metadata": {
        "id": "tOgoud-QZlsk"
      }
    },
    {
      "cell_type": "code",
      "source": [
        "def my_function(country = \"Norway\"):\n",
        "  print(\"I am from \" + country)\n",
        "\n",
        "my_function(\"Sweden\")\n",
        "my_function(\"India\")\n",
        "my_function()\n",
        "my_function(\"Brazil\")"
      ],
      "metadata": {
        "colab": {
          "base_uri": "https://localhost:8080/"
        },
        "id": "p4q9176aZl_n",
        "outputId": "9e60bf58-f6a1-440a-93a9-972c9b00f63a"
      },
      "execution_count": 1,
      "outputs": [
        {
          "output_type": "stream",
          "name": "stdout",
          "text": [
            "I am from Sweden\n",
            "I am from India\n",
            "I am from Norway\n",
            "I am from Brazil\n"
          ]
        }
      ]
    },
    {
      "cell_type": "markdown",
      "source": [
        "Below, create your own function with a parameter and call the function:"
      ],
      "metadata": {
        "id": "OBVlUEPLZzgB"
      }
    },
    {
      "cell_type": "code",
      "source": [
        ""
      ],
      "metadata": {
        "id": "2jIJZshjZ2x6"
      },
      "execution_count": null,
      "outputs": []
    },
    {
      "cell_type": "markdown",
      "source": [
        "You can send any data types of argument to a function (string, number, list, dictionary etc.), and it will be treated as the same data type inside the function.\n",
        "\n",
        "E.g. if you send a List as an argument, it will still be a List when it reaches the function:\n",
        "\n"
      ],
      "metadata": {
        "id": "tMicMdsAZndX"
      }
    },
    {
      "cell_type": "code",
      "source": [
        "def my_function(food):\n",
        "  for x in food:\n",
        "    print(x)\n",
        "\n",
        "fruits = [\"apple\", \"banana\", \"cherry\"]\n",
        "\n",
        "my_function(fruits)"
      ],
      "metadata": {
        "id": "2qb3NRy1ZtTz"
      },
      "execution_count": null,
      "outputs": []
    },
    {
      "cell_type": "markdown",
      "source": [
        "To let a function return a value, use the return statement:\n",
        "\n"
      ],
      "metadata": {
        "id": "EJph3n2hZwJQ"
      }
    },
    {
      "cell_type": "code",
      "source": [
        "def my_function(x):\n",
        "  return 5 * x\n",
        "\n",
        "print(my_function(3))\n",
        "print(my_function(5))\n",
        "print(my_function(9))"
      ],
      "metadata": {
        "id": "BNxzQEGwZwbH"
      },
      "execution_count": null,
      "outputs": []
    },
    {
      "cell_type": "markdown",
      "source": [
        "List comprehension offers a shorter syntax when you want to create a new list based on the values of an existing list.\n",
        "\n",
        "Example:\n",
        "\n",
        "Based on a list of fruits, you want a new list, containing only the fruits with the letter \"a\" in the name.\n",
        "\n",
        "Without list comprehension you will have to write a for statement with a conditional test inside:\n",
        "\n"
      ],
      "metadata": {
        "id": "gpcsVCF1a0tc"
      }
    },
    {
      "cell_type": "code",
      "source": [
        "fruits = [\"apple\", \"banana\", \"cherry\", \"kiwi\", \"mango\"]\n",
        "newlist = []\n",
        "\n",
        "for x in fruits:\n",
        "  if \"a\" in x:\n",
        "    newlist.append(x)\n",
        "\n",
        "print(newlist)"
      ],
      "metadata": {
        "id": "10Y_hF8ra0_J"
      },
      "execution_count": null,
      "outputs": []
    },
    {
      "cell_type": "markdown",
      "source": [
        "With list comprehension you can do all that with only one line of code:\n",
        "\n"
      ],
      "metadata": {
        "id": "f3DJDk7ca37n"
      }
    },
    {
      "cell_type": "code",
      "source": [
        "fruits = [\"apple\", \"banana\", \"cherry\", \"kiwi\", \"mango\"]\n",
        "\n",
        "newlist = [x for x in fruits if \"a\" in x]\n",
        "\n",
        "print(newlist)"
      ],
      "metadata": {
        "id": "nOg6EEfMa4N2"
      },
      "execution_count": null,
      "outputs": []
    },
    {
      "cell_type": "markdown",
      "source": [
        "newlist = [expression for item in iterable if condition == True]\n"
      ],
      "metadata": {
        "id": "d0wB8njba7HQ"
      }
    },
    {
      "cell_type": "markdown",
      "source": [
        "The return value is a new list, leaving the old list unchanged.\n",
        "\n"
      ],
      "metadata": {
        "id": "ngxbkXmPa-k9"
      }
    },
    {
      "cell_type": "code",
      "source": [
        "newlist = [x for x in fruits if x != \"apple\"]"
      ],
      "metadata": {
        "id": "XqkbtGHwa-39"
      },
      "execution_count": null,
      "outputs": []
    },
    {
      "cell_type": "markdown",
      "source": [
        "he condition if x != \"apple\"  will return True for all elements other than \"apple\", making the new list contain all fruits except \"apple\".\n",
        "\n",
        "The condition is optional and can be omitted:\n",
        "\n"
      ],
      "metadata": {
        "id": "VjJdJPJ3bEtv"
      }
    },
    {
      "cell_type": "code",
      "source": [
        "newlist = [x for x in fruits]"
      ],
      "metadata": {
        "id": "K8y5Q7wzbFY5"
      },
      "execution_count": null,
      "outputs": []
    },
    {
      "cell_type": "markdown",
      "source": [
        "The iterable can be any iterable object, like a list, tuple, set etc.\n",
        "\n"
      ],
      "metadata": {
        "id": "06osh083bIP4"
      }
    },
    {
      "cell_type": "code",
      "source": [
        "newlist = [x for x in range(10)]"
      ],
      "metadata": {
        "id": "1_CohQ6dbIi_"
      },
      "execution_count": null,
      "outputs": []
    },
    {
      "cell_type": "markdown",
      "source": [
        "Same example, but with a condition:\n",
        "\n"
      ],
      "metadata": {
        "id": "BSi2WN_tbLyc"
      }
    },
    {
      "cell_type": "code",
      "source": [
        "newlist = [x for x in range(10) if x < 5]"
      ],
      "metadata": {
        "id": "Uo4y7zK2bMHZ"
      },
      "execution_count": null,
      "outputs": []
    },
    {
      "cell_type": "markdown",
      "source": [
        "The expression is the current item in the iteration, but it is also the outcome, which you can manipulate before it ends up like a list item in the new list:\n",
        "\n"
      ],
      "metadata": {
        "id": "3x__4d7DbP13"
      }
    },
    {
      "cell_type": "code",
      "source": [
        "newlist = [x.upper() for x in fruits]"
      ],
      "metadata": {
        "id": "0a1xxgwIbQMP"
      },
      "execution_count": null,
      "outputs": []
    },
    {
      "cell_type": "markdown",
      "source": [
        "You can set the outcome to whatever you like:\n",
        "\n"
      ],
      "metadata": {
        "id": "2GXTJ9W4bRzE"
      }
    },
    {
      "cell_type": "code",
      "source": [
        "newlist = ['hello' for x in fruits]"
      ],
      "metadata": {
        "id": "Q_9jM3EcbS7O"
      },
      "execution_count": null,
      "outputs": []
    },
    {
      "cell_type": "markdown",
      "source": [
        "Below, use list comprehension to create a new list of anything you want."
      ],
      "metadata": {
        "id": "UHeWtV28bYv-"
      }
    },
    {
      "cell_type": "code",
      "source": [
        ""
      ],
      "metadata": {
        "id": "6fSyeJwzbeWt"
      },
      "execution_count": null,
      "outputs": []
    },
    {
      "cell_type": "markdown",
      "source": [
        "Now that we understand base python, lets get into some exercises."
      ],
      "metadata": {
        "id": "VjfJ-CNmbej0"
      }
    },
    {
      "cell_type": "markdown",
      "source": [
        "Given an int n, return True if it is within 10 of 100 or 200. Note: abs(num) computes the absolute value of a number.\n",
        "\n",
        "\n",
        "- near_hundred(93) → True\n",
        "- near_hundred(90) → True\n",
        "- near_hundred(89) → False"
      ],
      "metadata": {
        "id": "lbe-HRPXbuWR"
      }
    },
    {
      "cell_type": "code",
      "source": [
        ""
      ],
      "metadata": {
        "id": "yQWt4Shfbu0X"
      },
      "execution_count": null,
      "outputs": []
    },
    {
      "cell_type": "markdown",
      "source": [
        "\n",
        "We have a loud talking parrot. The \"hour\" parameter is the current hour time in the range 0..23. We are in trouble if the parrot is talking and the hour is before 7 or after 20. Return True if we are in trouble.\n",
        "\n",
        "\n",
        "- parrot_trouble(True, 6) → True\n",
        "- parrot_trouble(True, 7) → False\n",
        "- parrot_trouble(False, 6) → False"
      ],
      "metadata": {
        "id": "VfXTx4bWb30I"
      }
    },
    {
      "cell_type": "code",
      "source": [
        "def parrot_trouble(talking, hour):\n",
        "  #Write code here\n"
      ],
      "metadata": {
        "id": "ghThC3Trb9Zm"
      },
      "execution_count": null,
      "outputs": []
    },
    {
      "cell_type": "markdown",
      "source": [
        "Given a string and a non-negative int n, return a larger string that is n copies of the original string.\n",
        "\n",
        "\n",
        "- string_times('Hi', 2) → 'HiHi'\n",
        "- string_times('Hi', 3) → 'HiHiHi'\n",
        "- string_times('Hi', 1) → 'Hi'"
      ],
      "metadata": {
        "id": "zgzmdXNqcEL9"
      }
    },
    {
      "cell_type": "code",
      "source": [
        ""
      ],
      "metadata": {
        "id": "MsSbYxdccHCR"
      },
      "execution_count": null,
      "outputs": []
    },
    {
      "cell_type": "markdown",
      "source": [
        "Given a list of ints, return True if the sequence of numbers 1, 2, 3 appears in the list somewhere.\n",
        "\n",
        "\n",
        "- array123([1, 1, 2, 3, 1]) → True\n",
        "- array123([1, 1, 2, 4, 1]) → False\n",
        "- array123([1, 1, 2, 1, 2, 3]) → True\n"
      ],
      "metadata": {
        "id": "zWs6edFhcHSF"
      }
    },
    {
      "cell_type": "code",
      "source": [
        ""
      ],
      "metadata": {
        "id": "jwn-cgTtcQ2V"
      },
      "execution_count": null,
      "outputs": []
    },
    {
      "cell_type": "markdown",
      "source": [
        "Given 3 int values, a b c, return their sum. However, if one of the values is 13 then it does not count towards the sum and values to its right do not count. So for example, if b is 13, then both b and c do not count.\n",
        "\n",
        "\n",
        "- lucky_sum(1, 2, 3) → 6\n",
        "- lucky_sum(1, 2, 13) → 3\n",
        "- lucky_sum(1, 13, 3) → 1"
      ],
      "metadata": {
        "id": "Fs8KQ7OCceFf"
      }
    },
    {
      "cell_type": "code",
      "source": [
        ""
      ],
      "metadata": {
        "id": "s-ZcHNErcgCw"
      },
      "execution_count": null,
      "outputs": []
    },
    {
      "cell_type": "markdown",
      "source": [
        "We want make a package of goal kilos of chocolate. We have small bars (1 kilo each) and big bars (5 kilos each). Return the number of small bars to use, assuming we always use big bars before small bars. Return -1 if it can't be done.\n",
        "\n",
        "\n",
        "- make_chocolate(4, 1, 9) → 4\n",
        "- make_chocolate(4, 1, 10) → -1\n",
        "- make_chocolate(4, 1, 7) → 2"
      ],
      "metadata": {
        "id": "xZc-r17ucqdC"
      }
    },
    {
      "cell_type": "code",
      "source": [
        ""
      ],
      "metadata": {
        "id": "DVolShEbctqO"
      },
      "execution_count": null,
      "outputs": []
    },
    {
      "cell_type": "markdown",
      "source": [
        "\n",
        "Return the number of times that the string \"code\" appears anywhere in the given string, except we'll accept any letter for the 'd', so \"cope\" and \"cooe\" count.\n",
        "\n",
        "\n",
        "- count_code('aaacodebbb') → 1\n",
        "- count_code('codexxcode') → 2\n",
        "- count_code('cozexxcope') → 2"
      ],
      "metadata": {
        "id": "NZje-ubNc-jY"
      }
    },
    {
      "cell_type": "code",
      "source": [
        ""
      ],
      "metadata": {
        "id": "F-Wsm_12dC-B"
      },
      "execution_count": null,
      "outputs": []
    },
    {
      "cell_type": "markdown",
      "source": [
        "Return True if the string \"cat\" and \"dog\" appear the same number of times in the given string.\n",
        "\n",
        "\n",
        "- cat_dog('catdog') → True\n",
        "- cat_dog('catcat') → False\n",
        "- cat_dog('1cat1cadodog') → True"
      ],
      "metadata": {
        "id": "C5nZ6GXSdDN1"
      }
    },
    {
      "cell_type": "code",
      "source": [
        ""
      ],
      "metadata": {
        "id": "q73xtr6kdJgP"
      },
      "execution_count": null,
      "outputs": []
    },
    {
      "cell_type": "markdown",
      "source": [
        "Return the number of even ints in the given array. Note: the % \"mod\" operator computes the remainder, e.g. 5 % 2 is 1.\n",
        "\n",
        "\n",
        "- count_evens([2, 1, 2, 3, 4]) → 3\n",
        "- count_evens([2, 2, 0]) → 3\n",
        "- count_evens([1, 3, 5]) → 0"
      ],
      "metadata": {
        "id": "h0v4bRYJdJoe"
      }
    },
    {
      "cell_type": "code",
      "source": [
        ""
      ],
      "metadata": {
        "id": "PuHBFaZtdQ_H"
      },
      "execution_count": null,
      "outputs": []
    },
    {
      "cell_type": "markdown",
      "source": [
        "Given an array of ints, return True if the array contains a 2 next to a 2 somewhere.\n",
        "\n",
        "\n",
        "- has22([1, 2, 2]) → True\n",
        "- has22([1, 2, 1, 2]) → False\n",
        "- has22([2, 1, 2]) → False"
      ],
      "metadata": {
        "id": "HFgD9kbjdU_l"
      }
    },
    {
      "cell_type": "code",
      "source": [
        ""
      ],
      "metadata": {
        "id": "Ec0B_dvOdX8t"
      },
      "execution_count": null,
      "outputs": []
    },
    {
      "cell_type": "markdown",
      "source": [
        "More advanced problems:"
      ],
      "metadata": {
        "id": "pSY3J87JdZDD"
      }
    },
    {
      "cell_type": "markdown",
      "source": [
        "The prime 41, can be written as the sum of six consecutive primes:\n",
        "\n",
        "41 = 2 + 3 + 5 + 7 + 11 + 13\n",
        "\n",
        "This is the longest sum of consecutive primes that adds to a prime below one-hundred.\n",
        "\n",
        "The longest sum of consecutive primes below one-thousand that adds to a prime, contains 21 terms, and is equal to 953.\n",
        "\n",
        "Which prime, below 100,000, can be written as the sum of the most consecutive primes?"
      ],
      "metadata": {
        "id": "8Ty1a-Tadmzd"
      }
    },
    {
      "cell_type": "code",
      "source": [
        ""
      ],
      "metadata": {
        "id": "Rimrzqoedndq"
      },
      "execution_count": null,
      "outputs": []
    },
    {
      "cell_type": "markdown",
      "source": [
        "145 is a curious number, as 1! + 4! + 5! = 1 + 24 + 120 = 145.\n",
        "\n",
        "Find the sum of all numbers which are equal to the sum of the factorial of their digits.\n",
        "\n",
        "Note: As 1! = 1 and 2! = 2 are not sums they are not included."
      ],
      "metadata": {
        "id": "W5NU7iPPd2TY"
      }
    },
    {
      "cell_type": "code",
      "source": [
        ""
      ],
      "metadata": {
        "id": "JiXXTuZ4d275"
      },
      "execution_count": null,
      "outputs": []
    },
    {
      "cell_type": "markdown",
      "source": [
        "The sequence of triangle numbers is generated by adding the natural numbers. So the 7th triangle number would be 1 + 2 + 3 + 4 + 5 + 6 + 7 = 28. The first ten terms would be:\n",
        "\n",
        "1, 3, 6, 10, 15, 21, 28, 36, 45, 55, ...\n",
        "\n",
        "Let us list the factors of the first seven triangle numbers:\n",
        "\n",
        "- 1: 1\n",
        "- 3: 1,3\n",
        "- 6: 1,2,3,6\n",
        "- 10: 1,2,5,10\n",
        "- 15: 1,3,5,15\n",
        "- 21: 1,3,7,21\n",
        "- 28: 1,2,4,7,14,28\n",
        "\n",
        "We can see that 28 is the first triangle number to have over five divisors.\n",
        "\n",
        "What is the value of the first triangle number to have over one hundred divisors?"
      ],
      "metadata": {
        "id": "hxK9XfFReP-1"
      }
    },
    {
      "cell_type": "code",
      "source": [
        ""
      ],
      "metadata": {
        "id": "J_7bmuYEeQmK"
      },
      "execution_count": 11,
      "outputs": []
    }
  ]
}